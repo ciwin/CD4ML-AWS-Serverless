{
 "cells": [
  {
   "cell_type": "markdown",
   "metadata": {},
   "source": [
    "# Train the Machine Learning Model\n",
    "Christoph Windheuser, ThoughtWorks, June 19, 2020"
   ]
  },
  {
   "cell_type": "markdown",
   "metadata": {},
   "source": [
    "---\n",
    "## Install dependencies"
   ]
  },
  {
   "cell_type": "markdown",
   "metadata": {},
   "source": [
    "---\n",
    "## Import Libraries"
   ]
  },
  {
   "cell_type": "code",
   "execution_count": 1,
   "metadata": {},
   "outputs": [],
   "source": [
    "import pandas as pd\n",
    "import numpy as np\n",
    "from   time import strftime, gmtime\n",
    "import sys, os, json\n",
    "import joblib\n",
    "from   sklearn.tree import DecisionTreeRegressor\n",
    "from   sklearn.ensemble import RandomForestRegressor, AdaBoostRegressor, GradientBoostingRegressor\n",
    "from   sklearn import metrics\n",
    "\n",
    "import boto3\n",
    "import sagemaker\n",
    "from   sagemaker import get_execution_role\n",
    "from   sagemaker.s3 import S3Uploader, S3Downloader\n",
    "# from   smexperiments.experiment import Experiment\n",
    "# from   smexperiments.trial import Trial\n"
   ]
  },
  {
   "cell_type": "markdown",
   "metadata": {},
   "source": [
    "---\n",
    "## Definitions"
   ]
  },
  {
   "cell_type": "code",
   "execution_count": 2,
   "metadata": {},
   "outputs": [],
   "source": [
    "train_filename = 'final_train.csv'\n",
    "test_filename  = 'final_validate.csv'\n",
    "train_dir      = 'train/final'\n",
    "test_dir       = 'test/final'\n",
    "local_data_dir = 'CD4ML-AWS-Serverless/data'\n",
    "s3_prefix      = 'demandforecast'\n",
    "\n",
    "model_name     = 'decision_tree'\n",
    "seed           = 8675309\n"
   ]
  },
  {
   "cell_type": "markdown",
   "metadata": {},
   "source": [
    "---\n",
    "## Define the Machine Learning Model and Parameters"
   ]
  },
  {
   "cell_type": "code",
   "execution_count": 3,
   "metadata": {},
   "outputs": [],
   "source": [
    "model_parameters = {\n",
    "    \"random_forest\": {\n",
    "        \"n_estimators\": 10,\n",
    "        \"max_features\": 0.5\n",
    "    },\n",
    "    \"adaboost\": {\n",
    "        \"n_estimators\": 100\n",
    "    },\n",
    "    \"gradient_boosting\": {\n",
    "        \"n_estimators\": 200,\n",
    "        \"max_depth\": 4\n",
    "    },\n",
    "    \"decision_tree\": {\n",
    "        \"criterion\": 'mse'\n",
    "    }\n",
    "}\n",
    "\n",
    "\n",
    "def get_model_class(model_name):\n",
    "    model_classes = {\n",
    "        'random_forest': RandomForestRegressor,\n",
    "        'adaboost': AdaBoostRegressor,\n",
    "        'gradient_boosting': GradientBoostingRegressor,\n",
    "        'decision_tree': DecisionTreeRegressor\n",
    "    }\n",
    "    return model_classes[model_name]\n"
   ]
  },
  {
   "cell_type": "markdown",
   "metadata": {},
   "source": [
    "---\n",
    "## Open S3 Session and define bucket"
   ]
  },
  {
   "cell_type": "code",
   "execution_count": 4,
   "metadata": {},
   "outputs": [],
   "source": [
    "sess = boto3.Session()\n",
    "account_id = sess.client('sts', region_name=sess.region_name).get_caller_identity()[\"Account\"]\n",
    "bucket = 'sagemaker-studio-{}-{}'.format(sess.region_name, account_id)\n"
   ]
  },
  {
   "cell_type": "markdown",
   "metadata": {},
   "source": [
    "---\n",
    "## Load training and validation data from S3 and store it locally"
   ]
  },
  {
   "cell_type": "code",
   "execution_count": 5,
   "metadata": {},
   "outputs": [],
   "source": [
    "def load_data():\n",
    "    S3Downloader.download('s3://{}/{}/{}/{}'.format(bucket, s3_prefix, train_dir, train_filename),\n",
    "                          '{}/{}'.format(local_data_dir, train_dir))\n",
    "\n",
    "    S3Downloader.download('s3://{}/{}/{}/{}'.format(bucket, s3_prefix, test_dir, test_filename),\n",
    "                          '{}/{}'.format(local_data_dir, test_dir))\n",
    "\n",
    "    train    = pd.read_csv('{}/{}/{}'.format(local_data_dir, train_dir, train_filename), engine='python')\n",
    "    validate = pd.read_csv('{}/{}/{}'.format(local_data_dir, test_dir, test_filename), engine='python')\n",
    "\n",
    "    return train, validate\n"
   ]
  },
  {
   "cell_type": "code",
   "execution_count": 6,
   "metadata": {},
   "outputs": [
    {
     "data": {
      "text/html": [
       "<div>\n",
       "<style scoped>\n",
       "    .dataframe tbody tr th:only-of-type {\n",
       "        vertical-align: middle;\n",
       "    }\n",
       "\n",
       "    .dataframe tbody tr th {\n",
       "        vertical-align: top;\n",
       "    }\n",
       "\n",
       "    .dataframe thead th {\n",
       "        text-align: right;\n",
       "    }\n",
       "</style>\n",
       "<table border=\"1\" class=\"dataframe\">\n",
       "  <thead>\n",
       "    <tr style=\"text-align: right;\">\n",
       "      <th></th>\n",
       "      <th>id</th>\n",
       "      <th>item_nbr</th>\n",
       "      <th>unit_sales</th>\n",
       "      <th>family</th>\n",
       "      <th>class</th>\n",
       "      <th>perishable</th>\n",
       "      <th>transactions</th>\n",
       "      <th>year</th>\n",
       "      <th>month</th>\n",
       "      <th>day</th>\n",
       "      <th>dayofweek</th>\n",
       "      <th>days_til_end_of_data</th>\n",
       "      <th>dayoff</th>\n",
       "    </tr>\n",
       "  </thead>\n",
       "  <tbody>\n",
       "    <tr>\n",
       "      <th>0</th>\n",
       "      <td>88219279</td>\n",
       "      <td>103520</td>\n",
       "      <td>10.0</td>\n",
       "      <td>11</td>\n",
       "      <td>1028</td>\n",
       "      <td>0</td>\n",
       "      <td>3570</td>\n",
       "      <td>2016</td>\n",
       "      <td>8</td>\n",
       "      <td>16</td>\n",
       "      <td>1</td>\n",
       "      <td>364</td>\n",
       "      <td>0</td>\n",
       "    </tr>\n",
       "    <tr>\n",
       "      <th>1</th>\n",
       "      <td>88219280</td>\n",
       "      <td>103665</td>\n",
       "      <td>4.0</td>\n",
       "      <td>4</td>\n",
       "      <td>2712</td>\n",
       "      <td>1</td>\n",
       "      <td>3570</td>\n",
       "      <td>2016</td>\n",
       "      <td>8</td>\n",
       "      <td>16</td>\n",
       "      <td>1</td>\n",
       "      <td>364</td>\n",
       "      <td>0</td>\n",
       "    </tr>\n",
       "    <tr>\n",
       "      <th>2</th>\n",
       "      <td>88219281</td>\n",
       "      <td>105574</td>\n",
       "      <td>9.0</td>\n",
       "      <td>11</td>\n",
       "      <td>1045</td>\n",
       "      <td>0</td>\n",
       "      <td>3570</td>\n",
       "      <td>2016</td>\n",
       "      <td>8</td>\n",
       "      <td>16</td>\n",
       "      <td>1</td>\n",
       "      <td>364</td>\n",
       "      <td>0</td>\n",
       "    </tr>\n",
       "    <tr>\n",
       "      <th>3</th>\n",
       "      <td>88219282</td>\n",
       "      <td>105575</td>\n",
       "      <td>45.0</td>\n",
       "      <td>11</td>\n",
       "      <td>1045</td>\n",
       "      <td>0</td>\n",
       "      <td>3570</td>\n",
       "      <td>2016</td>\n",
       "      <td>8</td>\n",
       "      <td>16</td>\n",
       "      <td>1</td>\n",
       "      <td>364</td>\n",
       "      <td>0</td>\n",
       "    </tr>\n",
       "    <tr>\n",
       "      <th>4</th>\n",
       "      <td>88219283</td>\n",
       "      <td>105577</td>\n",
       "      <td>8.0</td>\n",
       "      <td>11</td>\n",
       "      <td>1045</td>\n",
       "      <td>0</td>\n",
       "      <td>3570</td>\n",
       "      <td>2016</td>\n",
       "      <td>8</td>\n",
       "      <td>16</td>\n",
       "      <td>1</td>\n",
       "      <td>364</td>\n",
       "      <td>0</td>\n",
       "    </tr>\n",
       "  </tbody>\n",
       "</table>\n",
       "</div>"
      ],
      "text/plain": [
       "         id  item_nbr  unit_sales  family  class  perishable  transactions  \\\n",
       "0  88219279    103520        10.0      11   1028           0          3570   \n",
       "1  88219280    103665         4.0       4   2712           1          3570   \n",
       "2  88219281    105574         9.0      11   1045           0          3570   \n",
       "3  88219282    105575        45.0      11   1045           0          3570   \n",
       "4  88219283    105577         8.0      11   1045           0          3570   \n",
       "\n",
       "   year  month  day  dayofweek  days_til_end_of_data  dayoff  \n",
       "0  2016      8   16          1                   364       0  \n",
       "1  2016      8   16          1                   364       0  \n",
       "2  2016      8   16          1                   364       0  \n",
       "3  2016      8   16          1                   364       0  \n",
       "4  2016      8   16          1                   364       0  "
      ]
     },
     "execution_count": 6,
     "metadata": {},
     "output_type": "execute_result"
    }
   ],
   "source": [
    "train, validate = load_data()\n",
    "train.head()\n"
   ]
  },
  {
   "cell_type": "code",
   "execution_count": 7,
   "metadata": {},
   "outputs": [
    {
     "data": {
      "text/html": [
       "<div>\n",
       "<style scoped>\n",
       "    .dataframe tbody tr th:only-of-type {\n",
       "        vertical-align: middle;\n",
       "    }\n",
       "\n",
       "    .dataframe tbody tr th {\n",
       "        vertical-align: top;\n",
       "    }\n",
       "\n",
       "    .dataframe thead th {\n",
       "        text-align: right;\n",
       "    }\n",
       "</style>\n",
       "<table border=\"1\" class=\"dataframe\">\n",
       "  <thead>\n",
       "    <tr style=\"text-align: right;\">\n",
       "      <th></th>\n",
       "      <th>id</th>\n",
       "      <th>item_nbr</th>\n",
       "      <th>unit_sales</th>\n",
       "      <th>family</th>\n",
       "      <th>class</th>\n",
       "      <th>perishable</th>\n",
       "      <th>transactions</th>\n",
       "      <th>year</th>\n",
       "      <th>month</th>\n",
       "      <th>day</th>\n",
       "      <th>dayofweek</th>\n",
       "      <th>days_til_end_of_data</th>\n",
       "      <th>dayoff</th>\n",
       "    </tr>\n",
       "  </thead>\n",
       "  <tbody>\n",
       "    <tr>\n",
       "      <th>0</th>\n",
       "      <td>124124002</td>\n",
       "      <td>96995</td>\n",
       "      <td>2.0</td>\n",
       "      <td>11</td>\n",
       "      <td>1093</td>\n",
       "      <td>0</td>\n",
       "      <td>3936</td>\n",
       "      <td>2017</td>\n",
       "      <td>8</td>\n",
       "      <td>2</td>\n",
       "      <td>2</td>\n",
       "      <td>13</td>\n",
       "      <td>0</td>\n",
       "    </tr>\n",
       "    <tr>\n",
       "      <th>1</th>\n",
       "      <td>124124003</td>\n",
       "      <td>99197</td>\n",
       "      <td>1.0</td>\n",
       "      <td>11</td>\n",
       "      <td>1067</td>\n",
       "      <td>0</td>\n",
       "      <td>3936</td>\n",
       "      <td>2017</td>\n",
       "      <td>8</td>\n",
       "      <td>2</td>\n",
       "      <td>2</td>\n",
       "      <td>13</td>\n",
       "      <td>0</td>\n",
       "    </tr>\n",
       "    <tr>\n",
       "      <th>2</th>\n",
       "      <td>124124004</td>\n",
       "      <td>103520</td>\n",
       "      <td>5.0</td>\n",
       "      <td>11</td>\n",
       "      <td>1028</td>\n",
       "      <td>0</td>\n",
       "      <td>3936</td>\n",
       "      <td>2017</td>\n",
       "      <td>8</td>\n",
       "      <td>2</td>\n",
       "      <td>2</td>\n",
       "      <td>13</td>\n",
       "      <td>0</td>\n",
       "    </tr>\n",
       "    <tr>\n",
       "      <th>3</th>\n",
       "      <td>124124005</td>\n",
       "      <td>103665</td>\n",
       "      <td>1.0</td>\n",
       "      <td>4</td>\n",
       "      <td>2712</td>\n",
       "      <td>1</td>\n",
       "      <td>3936</td>\n",
       "      <td>2017</td>\n",
       "      <td>8</td>\n",
       "      <td>2</td>\n",
       "      <td>2</td>\n",
       "      <td>13</td>\n",
       "      <td>0</td>\n",
       "    </tr>\n",
       "    <tr>\n",
       "      <th>4</th>\n",
       "      <td>124124006</td>\n",
       "      <td>105574</td>\n",
       "      <td>17.0</td>\n",
       "      <td>11</td>\n",
       "      <td>1045</td>\n",
       "      <td>0</td>\n",
       "      <td>3936</td>\n",
       "      <td>2017</td>\n",
       "      <td>8</td>\n",
       "      <td>2</td>\n",
       "      <td>2</td>\n",
       "      <td>13</td>\n",
       "      <td>0</td>\n",
       "    </tr>\n",
       "  </tbody>\n",
       "</table>\n",
       "</div>"
      ],
      "text/plain": [
       "          id  item_nbr  unit_sales  family  class  perishable  transactions  \\\n",
       "0  124124002     96995         2.0      11   1093           0          3936   \n",
       "1  124124003     99197         1.0      11   1067           0          3936   \n",
       "2  124124004    103520         5.0      11   1028           0          3936   \n",
       "3  124124005    103665         1.0       4   2712           1          3936   \n",
       "4  124124006    105574        17.0      11   1045           0          3936   \n",
       "\n",
       "   year  month  day  dayofweek  days_til_end_of_data  dayoff  \n",
       "0  2017      8    2          2                    13       0  \n",
       "1  2017      8    2          2                    13       0  \n",
       "2  2017      8    2          2                    13       0  \n",
       "3  2017      8    2          2                    13       0  \n",
       "4  2017      8    2          2                    13       0  "
      ]
     },
     "execution_count": 7,
     "metadata": {},
     "output_type": "execute_result"
    }
   ],
   "source": [
    "validate.head()"
   ]
  },
  {
   "cell_type": "markdown",
   "metadata": {},
   "source": [
    "---\n",
    "## Train the model"
   ]
  },
  {
   "cell_type": "code",
   "execution_count": 8,
   "metadata": {},
   "outputs": [],
   "source": [
    "def train_model(train, model_name='decision_tree', seed=None):\n",
    "\n",
    "    train_dropped = train.drop('unit_sales', axis=1)\n",
    "    target        = train['unit_sales']\n",
    "\n",
    "    model_class   = get_model_class(model_name)\n",
    "    params        = model_parameters[model_name]\n",
    "    \n",
    "    print(\"Training %s model\" % model_name)\n",
    "\n",
    "    clf           = model_class(random_state=seed, **params)\n",
    "\n",
    "    trained_model = clf.fit(train_dropped, target)\n",
    "\n",
    "    return trained_model, params\n"
   ]
  },
  {
   "cell_type": "code",
   "execution_count": 9,
   "metadata": {},
   "outputs": [
    {
     "name": "stdout",
     "output_type": "stream",
     "text": [
      "Training decision_tree model\n"
     ]
    }
   ],
   "source": [
    "model, params = train_model(train, model_name, seed)\n"
   ]
  },
  {
   "cell_type": "markdown",
   "metadata": {},
   "source": [
    "---\n",
    "## Validate the trained model"
   ]
  },
  {
   "cell_type": "code",
   "execution_count": 10,
   "metadata": {},
   "outputs": [],
   "source": [
    "def make_predictions(model, validate):\n",
    "    validate_dropped = validate.drop('unit_sales', axis=1).fillna(-1)\n",
    "    validate_preds   = model.predict(validate_dropped)\n",
    "    return validate_preds\n",
    "\n",
    "\n",
    "def write_predictions_and_score(model_name, evaluation_metrics, model):\n",
    "    path     = '{}/models/{}/'.format(local_data_dir, model_name)\n",
    "    filename = 'model.pkl'\n",
    "    if not os.path.exists(path):\n",
    "        os.makedirs(path)\n",
    "    print(\"Writing to {}\".format(path + filename))\n",
    "    joblib.dump(model, path + filename)\n",
    "\n",
    "    path     = '{}/results/{}/'.format(local_data_dir, model_name)\n",
    "    filename = 'metrics.json'\n",
    "    print(\"Writing to {}\".format(path + filename))\n",
    "    if not os.path.exists(path):\n",
    "        os.makedirs(path)\n",
    "    with open(path + filename, 'w+') as score_file:\n",
    "        json.dump(evaluation_metrics, score_file)\n",
    "\n",
    "\n",
    "def eval_nwrmsle(predictions, targets, weights):\n",
    "    if type(predictions) == list:\n",
    "        predictions = np.array([np.nan if x < 0 else x for x in predictions])\n",
    "    elif type(predictions) == pd.Series:\n",
    "        predictions[predictions < 0] = np.nan\n",
    "    targetsf = targets.astype(float)\n",
    "    targetsf[targets < 0] = np.nan\n",
    "    weights = 1 + 0.25 * weights\n",
    "    log_square_errors = (np.log(predictions + 1) - np.log(targetsf + 1)) ** 2\n",
    "    return(np.sqrt(np.sum(weights * log_square_errors) / np.sum(weights)))\n"
   ]
  },
  {
   "cell_type": "code",
   "execution_count": 11,
   "metadata": {},
   "outputs": [
    {
     "name": "stdout",
     "output_type": "stream",
     "text": [
      "Making prediction on validation data\n",
      "Calculating metrics\n",
      "Writing to CD4ML-AWS-Serverless/data/models/decision_tree/model.pkl\n",
      "Writing to CD4ML-AWS-Serverless/data/results/decision_tree/metrics.json\n",
      "Evaluation done with metrics {\"nwrmsle\": 0.8480084859255792, \"r2_score\": -2.0782116252217895}.\n"
     ]
    }
   ],
   "source": [
    "print(\"Making prediction on validation data\")\n",
    "validation_predictions = make_predictions(model, validate)\n",
    "\n",
    "print(\"Calculating metrics\")\n",
    "evaluation_metrics = {\n",
    "    'nwrmsle' : eval_nwrmsle(validation_predictions, validate['unit_sales'].values, validate['perishable'].values),\n",
    "    'r2_score': metrics.r2_score(y_true=validate['unit_sales'].values, y_pred=validation_predictions)\n",
    "}\n",
    "\n",
    "#        track.log_metrics(evaluation_metrics)\n",
    "\n",
    "write_predictions_and_score(model_name, evaluation_metrics, model)\n",
    "\n",
    "print(\"Evaluation done with metrics {}.\".format(json.dumps(evaluation_metrics)))\n"
   ]
  },
  {
   "cell_type": "code",
   "execution_count": null,
   "metadata": {},
   "outputs": [],
   "source": []
  }
 ],
 "metadata": {
  "instance_type": "ml.t3.medium",
  "kernelspec": {
   "display_name": "Python 3 (Data Science)",
   "language": "python",
   "name": "python3__SAGEMAKER_INTERNAL__arn:aws:sagemaker:us-east-1:081325390199:image/datascience-1.0"
  },
  "language_info": {
   "codemirror_mode": {
    "name": "ipython",
    "version": 3
   },
   "file_extension": ".py",
   "mimetype": "text/x-python",
   "name": "python",
   "nbconvert_exporter": "python",
   "pygments_lexer": "ipython3",
   "version": "3.7.6"
  }
 },
 "nbformat": 4,
 "nbformat_minor": 4
}
