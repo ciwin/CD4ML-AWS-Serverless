{
 "cells": [
  {
   "cell_type": "markdown",
   "metadata": {},
   "source": [
    "# Train the Machine Learning Model\n",
    "Christoph Windheuser, ThoughtWorks, June 25, 2020    \n",
    "Train a ML Model on SageMaker with Experiments"
   ]
  },
  {
   "cell_type": "markdown",
   "metadata": {},
   "source": [
    "---\n",
    "## Install dependencies"
   ]
  },
  {
   "cell_type": "code",
   "execution_count": 5,
   "metadata": {},
   "outputs": [
    {
     "name": "stdout",
     "output_type": "stream",
     "text": [
      "Requirement already up-to-date: sagemaker in /opt/conda/lib/python3.7/site-packages (1.66.0)\n",
      "Requirement already satisfied, skipping upgrade: protobuf3-to-dict>=0.1.5 in /opt/conda/lib/python3.7/site-packages (from sagemaker) (0.1.5)\n",
      "Requirement already satisfied, skipping upgrade: scipy>=0.19.0 in /opt/conda/lib/python3.7/site-packages (from sagemaker) (1.4.1)\n",
      "Requirement already satisfied, skipping upgrade: importlib-metadata>=1.4.0 in /opt/conda/lib/python3.7/site-packages (from sagemaker) (1.5.0)\n",
      "Requirement already satisfied, skipping upgrade: protobuf>=3.1 in /opt/conda/lib/python3.7/site-packages (from sagemaker) (3.12.1)\n",
      "Requirement already satisfied, skipping upgrade: boto3>=1.13.24 in /opt/conda/lib/python3.7/site-packages (from sagemaker) (1.14.12)\n",
      "Requirement already satisfied, skipping upgrade: numpy>=1.9.0 in /opt/conda/lib/python3.7/site-packages (from sagemaker) (1.18.1)\n",
      "Requirement already satisfied, skipping upgrade: packaging>=20.0 in /opt/conda/lib/python3.7/site-packages (from sagemaker) (20.1)\n",
      "Requirement already satisfied, skipping upgrade: smdebug-rulesconfig==0.1.4 in /opt/conda/lib/python3.7/site-packages (from sagemaker) (0.1.4)\n",
      "Requirement already satisfied, skipping upgrade: six in /opt/conda/lib/python3.7/site-packages (from protobuf3-to-dict>=0.1.5->sagemaker) (1.14.0)\n",
      "Requirement already satisfied, skipping upgrade: zipp>=0.5 in /opt/conda/lib/python3.7/site-packages (from importlib-metadata>=1.4.0->sagemaker) (2.2.0)\n",
      "Requirement already satisfied, skipping upgrade: setuptools in /opt/conda/lib/python3.7/site-packages (from protobuf>=3.1->sagemaker) (45.2.0.post20200210)\n",
      "Requirement already satisfied, skipping upgrade: jmespath<1.0.0,>=0.7.1 in /opt/conda/lib/python3.7/site-packages (from boto3>=1.13.24->sagemaker) (0.10.0)\n",
      "Requirement already satisfied, skipping upgrade: s3transfer<0.4.0,>=0.3.0 in /opt/conda/lib/python3.7/site-packages (from boto3>=1.13.24->sagemaker) (0.3.3)\n",
      "Requirement already satisfied, skipping upgrade: botocore<1.18.0,>=1.17.12 in /opt/conda/lib/python3.7/site-packages (from boto3>=1.13.24->sagemaker) (1.17.12)\n",
      "Requirement already satisfied, skipping upgrade: pyparsing>=2.0.2 in /opt/conda/lib/python3.7/site-packages (from packaging>=20.0->sagemaker) (2.4.6)\n",
      "Requirement already satisfied, skipping upgrade: urllib3<1.26,>=1.20; python_version != \"3.4\" in /opt/conda/lib/python3.7/site-packages (from botocore<1.18.0,>=1.17.12->boto3>=1.13.24->sagemaker) (1.25.8)\n",
      "Requirement already satisfied, skipping upgrade: python-dateutil<3.0.0,>=2.1 in /opt/conda/lib/python3.7/site-packages (from botocore<1.18.0,>=1.17.12->boto3>=1.13.24->sagemaker) (2.8.1)\n",
      "Requirement already satisfied, skipping upgrade: docutils<0.16,>=0.10 in /opt/conda/lib/python3.7/site-packages (from botocore<1.18.0,>=1.17.12->boto3>=1.13.24->sagemaker) (0.15.2)\n",
      "Requirement already satisfied: sagemaker-experiments in /opt/conda/lib/python3.7/site-packages (0.1.16)\n",
      "Requirement already satisfied: boto3>=1.12.8 in /opt/conda/lib/python3.7/site-packages (from sagemaker-experiments) (1.14.12)\n",
      "Requirement already satisfied: s3transfer<0.4.0,>=0.3.0 in /opt/conda/lib/python3.7/site-packages (from boto3>=1.12.8->sagemaker-experiments) (0.3.3)\n",
      "Requirement already satisfied: botocore<1.18.0,>=1.17.12 in /opt/conda/lib/python3.7/site-packages (from boto3>=1.12.8->sagemaker-experiments) (1.17.12)\n",
      "Requirement already satisfied: jmespath<1.0.0,>=0.7.1 in /opt/conda/lib/python3.7/site-packages (from boto3>=1.12.8->sagemaker-experiments) (0.10.0)\n",
      "Requirement already satisfied: python-dateutil<3.0.0,>=2.1 in /opt/conda/lib/python3.7/site-packages (from botocore<1.18.0,>=1.17.12->boto3>=1.12.8->sagemaker-experiments) (2.8.1)\n",
      "Requirement already satisfied: docutils<0.16,>=0.10 in /opt/conda/lib/python3.7/site-packages (from botocore<1.18.0,>=1.17.12->boto3>=1.12.8->sagemaker-experiments) (0.15.2)\n",
      "Requirement already satisfied: urllib3<1.26,>=1.20; python_version != \"3.4\" in /opt/conda/lib/python3.7/site-packages (from botocore<1.18.0,>=1.17.12->boto3>=1.12.8->sagemaker-experiments) (1.25.8)\n",
      "Requirement already satisfied: six>=1.5 in /opt/conda/lib/python3.7/site-packages (from python-dateutil<3.0.0,>=2.1->botocore<1.18.0,>=1.17.12->boto3>=1.12.8->sagemaker-experiments) (1.14.0)\n"
     ]
    }
   ],
   "source": [
    "# Testing GitHub!!!\n",
    "\n",
    "import sys\n",
    "!{sys.executable} -m pip install sagemaker -U\n",
    "!{sys.executable} -m pip install sagemaker-experiments\n"
   ]
  },
  {
   "cell_type": "markdown",
   "metadata": {},
   "source": [
    "---\n",
    "## Import Libraries"
   ]
  },
  {
   "cell_type": "code",
   "execution_count": 6,
   "metadata": {},
   "outputs": [
    {
     "ename": "ImportError",
     "evalue": "cannot import name 'later_framework_version_warning' from 'sagemaker.fw_utils' (/opt/conda/lib/python3.7/site-packages/sagemaker/fw_utils.py)",
     "output_type": "error",
     "traceback": [
      "\u001b[0;31m---------------------------------------------------------------------------\u001b[0m",
      "\u001b[0;31mImportError\u001b[0m                               Traceback (most recent call last)",
      "\u001b[0;32m<ipython-input-6-84e1983a3ad6>\u001b[0m in \u001b[0;36m<module>\u001b[0;34m\u001b[0m\n\u001b[1;32m     17\u001b[0m \u001b[0;32mfrom\u001b[0m   \u001b[0msmexperiments\u001b[0m\u001b[0;34m.\u001b[0m\u001b[0mexperiment\u001b[0m \u001b[0;32mimport\u001b[0m \u001b[0mExperiment\u001b[0m\u001b[0;34m\u001b[0m\u001b[0;34m\u001b[0m\u001b[0m\n\u001b[1;32m     18\u001b[0m \u001b[0;32mfrom\u001b[0m   \u001b[0msmexperiments\u001b[0m\u001b[0;34m.\u001b[0m\u001b[0mtrial\u001b[0m \u001b[0;32mimport\u001b[0m \u001b[0mTrial\u001b[0m\u001b[0;34m\u001b[0m\u001b[0;34m\u001b[0m\u001b[0m\n\u001b[0;32m---> 19\u001b[0;31m \u001b[0;32mfrom\u001b[0m   \u001b[0msagemaker\u001b[0m\u001b[0;34m.\u001b[0m\u001b[0msklearn\u001b[0m\u001b[0;34m.\u001b[0m\u001b[0mestimator\u001b[0m \u001b[0;32mimport\u001b[0m \u001b[0mSKLearn\u001b[0m\u001b[0;34m\u001b[0m\u001b[0;34m\u001b[0m\u001b[0m\n\u001b[0m",
      "\u001b[0;32m/opt/conda/lib/python3.7/site-packages/sagemaker/sklearn/__init__.py\u001b[0m in \u001b[0;36m<module>\u001b[0;34m\u001b[0m\n\u001b[1;32m     14\u001b[0m \u001b[0;32mfrom\u001b[0m \u001b[0m__future__\u001b[0m \u001b[0;32mimport\u001b[0m \u001b[0mabsolute_import\u001b[0m\u001b[0;34m\u001b[0m\u001b[0;34m\u001b[0m\u001b[0m\n\u001b[1;32m     15\u001b[0m \u001b[0;34m\u001b[0m\u001b[0m\n\u001b[0;32m---> 16\u001b[0;31m \u001b[0;32mfrom\u001b[0m \u001b[0msagemaker\u001b[0m\u001b[0;34m.\u001b[0m\u001b[0msklearn\u001b[0m\u001b[0;34m.\u001b[0m\u001b[0mestimator\u001b[0m \u001b[0;32mimport\u001b[0m \u001b[0mSKLearn\u001b[0m  \u001b[0;31m# noqa: F401\u001b[0m\u001b[0;34m\u001b[0m\u001b[0;34m\u001b[0m\u001b[0m\n\u001b[0m\u001b[1;32m     17\u001b[0m \u001b[0;32mfrom\u001b[0m \u001b[0msagemaker\u001b[0m\u001b[0;34m.\u001b[0m\u001b[0msklearn\u001b[0m\u001b[0;34m.\u001b[0m\u001b[0mmodel\u001b[0m \u001b[0;32mimport\u001b[0m \u001b[0mSKLearnModel\u001b[0m\u001b[0;34m,\u001b[0m \u001b[0mSKLearnPredictor\u001b[0m  \u001b[0;31m# noqa: F401\u001b[0m\u001b[0;34m\u001b[0m\u001b[0;34m\u001b[0m\u001b[0m\n\u001b[1;32m     18\u001b[0m \u001b[0;32mfrom\u001b[0m \u001b[0msagemaker\u001b[0m\u001b[0;34m.\u001b[0m\u001b[0msklearn\u001b[0m\u001b[0;34m.\u001b[0m\u001b[0mprocessing\u001b[0m \u001b[0;32mimport\u001b[0m \u001b[0mSKLearnProcessor\u001b[0m  \u001b[0;31m# noqa: F401\u001b[0m\u001b[0;34m\u001b[0m\u001b[0;34m\u001b[0m\u001b[0m\n",
      "\u001b[0;32m/opt/conda/lib/python3.7/site-packages/sagemaker/sklearn/estimator.py\u001b[0m in \u001b[0;36m<module>\u001b[0;34m\u001b[0m\n\u001b[1;32m     18\u001b[0m \u001b[0;32mfrom\u001b[0m \u001b[0msagemaker\u001b[0m\u001b[0;34m.\u001b[0m\u001b[0mestimator\u001b[0m \u001b[0;32mimport\u001b[0m \u001b[0mFramework\u001b[0m\u001b[0;34m\u001b[0m\u001b[0;34m\u001b[0m\u001b[0m\n\u001b[1;32m     19\u001b[0m \u001b[0;32mfrom\u001b[0m \u001b[0msagemaker\u001b[0m\u001b[0;34m.\u001b[0m\u001b[0mfw_registry\u001b[0m \u001b[0;32mimport\u001b[0m \u001b[0mdefault_framework_uri\u001b[0m\u001b[0;34m\u001b[0m\u001b[0;34m\u001b[0m\u001b[0m\n\u001b[0;32m---> 20\u001b[0;31m from sagemaker.fw_utils import (\n\u001b[0m\u001b[1;32m     21\u001b[0m     \u001b[0mframework_name_from_image\u001b[0m\u001b[0;34m,\u001b[0m\u001b[0;34m\u001b[0m\u001b[0;34m\u001b[0m\u001b[0m\n\u001b[1;32m     22\u001b[0m     \u001b[0mget_unsupported_framework_version_error\u001b[0m\u001b[0;34m,\u001b[0m\u001b[0;34m\u001b[0m\u001b[0;34m\u001b[0m\u001b[0m\n",
      "\u001b[0;31mImportError\u001b[0m: cannot import name 'later_framework_version_warning' from 'sagemaker.fw_utils' (/opt/conda/lib/python3.7/site-packages/sagemaker/fw_utils.py)"
     ]
    }
   ],
   "source": [
    "import pandas as pd\n",
    "import numpy as np\n",
    "from   time import strftime, gmtime\n",
    "import sys, os, json\n",
    "\n",
    "# import joblib\n",
    "from sklearn.externals import joblib\n",
    "\n",
    "from   sklearn.tree import DecisionTreeRegressor\n",
    "from   sklearn.ensemble import RandomForestRegressor, AdaBoostRegressor, GradientBoostingRegressor\n",
    "from   sklearn import metrics\n",
    "\n",
    "import boto3\n",
    "import sagemaker\n",
    "from   sagemaker import get_execution_role\n",
    "from   sagemaker.s3 import S3Uploader, S3Downloader\n",
    "from   smexperiments.experiment import Experiment\n",
    "from   smexperiments.trial import Trial\n",
    "from   sagemaker.sklearn.estimator import SKLearn\n"
   ]
  },
  {
   "cell_type": "markdown",
   "metadata": {},
   "source": [
    "---\n",
    "## Definitions"
   ]
  },
  {
   "cell_type": "code",
   "execution_count": 7,
   "metadata": {},
   "outputs": [],
   "source": [
    "train_filename = 'final_train.csv'\n",
    "test_filename  = 'final_validate.csv'\n",
    "train_dir      = 'train/final'\n",
    "test_dir       = 'test/final'\n",
    "local_data_dir = '/home/sagemaker-user/CD4ML-AWS-Serverless/data'\n",
    "s3_prefix      = 'demandforecast'\n",
    "\n",
    "model_name     = 'decision_tree'\n",
    "seed           = 8675309\n"
   ]
  },
  {
   "cell_type": "markdown",
   "metadata": {},
   "source": [
    "---\n",
    "## Define the Machine Learning Model and Parameters"
   ]
  },
  {
   "cell_type": "code",
   "execution_count": 4,
   "metadata": {},
   "outputs": [],
   "source": [
    "model_parameters = {\n",
    "    \"random_forest\": {\n",
    "        \"n_estimators\": 10,\n",
    "        \"max_features\": 0.5\n",
    "    },\n",
    "    \"adaboost\": {\n",
    "        \"n_estimators\": 100\n",
    "    },\n",
    "    \"gradient_boosting\": {\n",
    "        \"n_estimators\": 200,\n",
    "        \"max_depth\": 4\n",
    "    },\n",
    "    \"decision_tree\": {\n",
    "        \"criterion\": 'mse'\n",
    "    }\n",
    "}\n",
    "\n",
    "\n",
    "def get_model_class(model_name):\n",
    "    model_classes = {\n",
    "        'random_forest': RandomForestRegressor,\n",
    "        'adaboost': AdaBoostRegressor,\n",
    "        'gradient_boosting': GradientBoostingRegressor,\n",
    "        'decision_tree': DecisionTreeRegressor\n",
    "    }\n",
    "    return model_classes[model_name]\n"
   ]
  },
  {
   "cell_type": "markdown",
   "metadata": {},
   "source": [
    "---\n",
    "## Open S3 Session and define bucket"
   ]
  },
  {
   "cell_type": "code",
   "execution_count": 5,
   "metadata": {},
   "outputs": [],
   "source": [
    "sess = boto3.Session()\n",
    "account_id = sess.client('sts', region_name=sess.region_name).get_caller_identity()[\"Account\"]\n",
    "bucket = 'sagemaker-studio-{}-{}'.format(sess.region_name, account_id)\n"
   ]
  },
  {
   "cell_type": "markdown",
   "metadata": {},
   "source": [
    "---\n",
    "## Load training and validation data from S3 and store it locally"
   ]
  },
  {
   "cell_type": "code",
   "execution_count": 6,
   "metadata": {},
   "outputs": [],
   "source": [
    "def load_data():\n",
    "    S3Downloader.download('s3://{}/{}/{}/{}'.format(bucket, s3_prefix, train_dir, train_filename),\n",
    "                          '{}/{}'.format(local_data_dir, train_dir))\n",
    "\n",
    "    S3Downloader.download('s3://{}/{}/{}/{}'.format(bucket, s3_prefix, test_dir, test_filename),\n",
    "                          '{}/{}'.format(local_data_dir, test_dir))\n",
    "\n",
    "    train    = pd.read_csv('{}/{}/{}'.format(local_data_dir, train_dir, train_filename), engine='python')\n",
    "    validate = pd.read_csv('{}/{}/{}'.format(local_data_dir, test_dir, test_filename), engine='python')\n",
    "\n",
    "    return train, validate\n"
   ]
  },
  {
   "cell_type": "code",
   "execution_count": 7,
   "metadata": {},
   "outputs": [
    {
     "data": {
      "text/html": [
       "<div>\n",
       "<style scoped>\n",
       "    .dataframe tbody tr th:only-of-type {\n",
       "        vertical-align: middle;\n",
       "    }\n",
       "\n",
       "    .dataframe tbody tr th {\n",
       "        vertical-align: top;\n",
       "    }\n",
       "\n",
       "    .dataframe thead th {\n",
       "        text-align: right;\n",
       "    }\n",
       "</style>\n",
       "<table border=\"1\" class=\"dataframe\">\n",
       "  <thead>\n",
       "    <tr style=\"text-align: right;\">\n",
       "      <th></th>\n",
       "      <th>id</th>\n",
       "      <th>item_nbr</th>\n",
       "      <th>unit_sales</th>\n",
       "      <th>family</th>\n",
       "      <th>class</th>\n",
       "      <th>perishable</th>\n",
       "      <th>transactions</th>\n",
       "      <th>year</th>\n",
       "      <th>month</th>\n",
       "      <th>day</th>\n",
       "      <th>dayofweek</th>\n",
       "      <th>days_til_end_of_data</th>\n",
       "      <th>dayoff</th>\n",
       "    </tr>\n",
       "  </thead>\n",
       "  <tbody>\n",
       "    <tr>\n",
       "      <th>0</th>\n",
       "      <td>88219279</td>\n",
       "      <td>103520</td>\n",
       "      <td>10.0</td>\n",
       "      <td>11</td>\n",
       "      <td>1028</td>\n",
       "      <td>0</td>\n",
       "      <td>3570</td>\n",
       "      <td>2016</td>\n",
       "      <td>8</td>\n",
       "      <td>16</td>\n",
       "      <td>1</td>\n",
       "      <td>364</td>\n",
       "      <td>0</td>\n",
       "    </tr>\n",
       "    <tr>\n",
       "      <th>1</th>\n",
       "      <td>88219280</td>\n",
       "      <td>103665</td>\n",
       "      <td>4.0</td>\n",
       "      <td>4</td>\n",
       "      <td>2712</td>\n",
       "      <td>1</td>\n",
       "      <td>3570</td>\n",
       "      <td>2016</td>\n",
       "      <td>8</td>\n",
       "      <td>16</td>\n",
       "      <td>1</td>\n",
       "      <td>364</td>\n",
       "      <td>0</td>\n",
       "    </tr>\n",
       "    <tr>\n",
       "      <th>2</th>\n",
       "      <td>88219281</td>\n",
       "      <td>105574</td>\n",
       "      <td>9.0</td>\n",
       "      <td>11</td>\n",
       "      <td>1045</td>\n",
       "      <td>0</td>\n",
       "      <td>3570</td>\n",
       "      <td>2016</td>\n",
       "      <td>8</td>\n",
       "      <td>16</td>\n",
       "      <td>1</td>\n",
       "      <td>364</td>\n",
       "      <td>0</td>\n",
       "    </tr>\n",
       "    <tr>\n",
       "      <th>3</th>\n",
       "      <td>88219282</td>\n",
       "      <td>105575</td>\n",
       "      <td>45.0</td>\n",
       "      <td>11</td>\n",
       "      <td>1045</td>\n",
       "      <td>0</td>\n",
       "      <td>3570</td>\n",
       "      <td>2016</td>\n",
       "      <td>8</td>\n",
       "      <td>16</td>\n",
       "      <td>1</td>\n",
       "      <td>364</td>\n",
       "      <td>0</td>\n",
       "    </tr>\n",
       "    <tr>\n",
       "      <th>4</th>\n",
       "      <td>88219283</td>\n",
       "      <td>105577</td>\n",
       "      <td>8.0</td>\n",
       "      <td>11</td>\n",
       "      <td>1045</td>\n",
       "      <td>0</td>\n",
       "      <td>3570</td>\n",
       "      <td>2016</td>\n",
       "      <td>8</td>\n",
       "      <td>16</td>\n",
       "      <td>1</td>\n",
       "      <td>364</td>\n",
       "      <td>0</td>\n",
       "    </tr>\n",
       "  </tbody>\n",
       "</table>\n",
       "</div>"
      ],
      "text/plain": [
       "         id  item_nbr  unit_sales  family  class  perishable  transactions  \\\n",
       "0  88219279    103520        10.0      11   1028           0          3570   \n",
       "1  88219280    103665         4.0       4   2712           1          3570   \n",
       "2  88219281    105574         9.0      11   1045           0          3570   \n",
       "3  88219282    105575        45.0      11   1045           0          3570   \n",
       "4  88219283    105577         8.0      11   1045           0          3570   \n",
       "\n",
       "   year  month  day  dayofweek  days_til_end_of_data  dayoff  \n",
       "0  2016      8   16          1                   364       0  \n",
       "1  2016      8   16          1                   364       0  \n",
       "2  2016      8   16          1                   364       0  \n",
       "3  2016      8   16          1                   364       0  \n",
       "4  2016      8   16          1                   364       0  "
      ]
     },
     "execution_count": 7,
     "metadata": {},
     "output_type": "execute_result"
    }
   ],
   "source": [
    "train, validate = load_data()\n",
    "train.head()\n"
   ]
  },
  {
   "cell_type": "code",
   "execution_count": 8,
   "metadata": {},
   "outputs": [
    {
     "data": {
      "text/html": [
       "<div>\n",
       "<style scoped>\n",
       "    .dataframe tbody tr th:only-of-type {\n",
       "        vertical-align: middle;\n",
       "    }\n",
       "\n",
       "    .dataframe tbody tr th {\n",
       "        vertical-align: top;\n",
       "    }\n",
       "\n",
       "    .dataframe thead th {\n",
       "        text-align: right;\n",
       "    }\n",
       "</style>\n",
       "<table border=\"1\" class=\"dataframe\">\n",
       "  <thead>\n",
       "    <tr style=\"text-align: right;\">\n",
       "      <th></th>\n",
       "      <th>id</th>\n",
       "      <th>item_nbr</th>\n",
       "      <th>unit_sales</th>\n",
       "      <th>family</th>\n",
       "      <th>class</th>\n",
       "      <th>perishable</th>\n",
       "      <th>transactions</th>\n",
       "      <th>year</th>\n",
       "      <th>month</th>\n",
       "      <th>day</th>\n",
       "      <th>dayofweek</th>\n",
       "      <th>days_til_end_of_data</th>\n",
       "      <th>dayoff</th>\n",
       "    </tr>\n",
       "  </thead>\n",
       "  <tbody>\n",
       "    <tr>\n",
       "      <th>0</th>\n",
       "      <td>124124002</td>\n",
       "      <td>96995</td>\n",
       "      <td>2.0</td>\n",
       "      <td>11</td>\n",
       "      <td>1093</td>\n",
       "      <td>0</td>\n",
       "      <td>3936</td>\n",
       "      <td>2017</td>\n",
       "      <td>8</td>\n",
       "      <td>2</td>\n",
       "      <td>2</td>\n",
       "      <td>13</td>\n",
       "      <td>0</td>\n",
       "    </tr>\n",
       "    <tr>\n",
       "      <th>1</th>\n",
       "      <td>124124003</td>\n",
       "      <td>99197</td>\n",
       "      <td>1.0</td>\n",
       "      <td>11</td>\n",
       "      <td>1067</td>\n",
       "      <td>0</td>\n",
       "      <td>3936</td>\n",
       "      <td>2017</td>\n",
       "      <td>8</td>\n",
       "      <td>2</td>\n",
       "      <td>2</td>\n",
       "      <td>13</td>\n",
       "      <td>0</td>\n",
       "    </tr>\n",
       "    <tr>\n",
       "      <th>2</th>\n",
       "      <td>124124004</td>\n",
       "      <td>103520</td>\n",
       "      <td>5.0</td>\n",
       "      <td>11</td>\n",
       "      <td>1028</td>\n",
       "      <td>0</td>\n",
       "      <td>3936</td>\n",
       "      <td>2017</td>\n",
       "      <td>8</td>\n",
       "      <td>2</td>\n",
       "      <td>2</td>\n",
       "      <td>13</td>\n",
       "      <td>0</td>\n",
       "    </tr>\n",
       "    <tr>\n",
       "      <th>3</th>\n",
       "      <td>124124005</td>\n",
       "      <td>103665</td>\n",
       "      <td>1.0</td>\n",
       "      <td>4</td>\n",
       "      <td>2712</td>\n",
       "      <td>1</td>\n",
       "      <td>3936</td>\n",
       "      <td>2017</td>\n",
       "      <td>8</td>\n",
       "      <td>2</td>\n",
       "      <td>2</td>\n",
       "      <td>13</td>\n",
       "      <td>0</td>\n",
       "    </tr>\n",
       "    <tr>\n",
       "      <th>4</th>\n",
       "      <td>124124006</td>\n",
       "      <td>105574</td>\n",
       "      <td>17.0</td>\n",
       "      <td>11</td>\n",
       "      <td>1045</td>\n",
       "      <td>0</td>\n",
       "      <td>3936</td>\n",
       "      <td>2017</td>\n",
       "      <td>8</td>\n",
       "      <td>2</td>\n",
       "      <td>2</td>\n",
       "      <td>13</td>\n",
       "      <td>0</td>\n",
       "    </tr>\n",
       "  </tbody>\n",
       "</table>\n",
       "</div>"
      ],
      "text/plain": [
       "          id  item_nbr  unit_sales  family  class  perishable  transactions  \\\n",
       "0  124124002     96995         2.0      11   1093           0          3936   \n",
       "1  124124003     99197         1.0      11   1067           0          3936   \n",
       "2  124124004    103520         5.0      11   1028           0          3936   \n",
       "3  124124005    103665         1.0       4   2712           1          3936   \n",
       "4  124124006    105574        17.0      11   1045           0          3936   \n",
       "\n",
       "   year  month  day  dayofweek  days_til_end_of_data  dayoff  \n",
       "0  2017      8    2          2                    13       0  \n",
       "1  2017      8    2          2                    13       0  \n",
       "2  2017      8    2          2                    13       0  \n",
       "3  2017      8    2          2                    13       0  \n",
       "4  2017      8    2          2                    13       0  "
      ]
     },
     "execution_count": 8,
     "metadata": {},
     "output_type": "execute_result"
    }
   ],
   "source": [
    "validate.head()"
   ]
  },
  {
   "cell_type": "markdown",
   "metadata": {},
   "source": [
    "---\n",
    "## Train the model"
   ]
  },
  {
   "cell_type": "code",
   "execution_count": 9,
   "metadata": {},
   "outputs": [],
   "source": [
    "def train_model(train, model_name='decision_tree', seed=None):\n",
    "\n",
    "    train_dropped = train.drop('unit_sales', axis=1)\n",
    "    target        = train['unit_sales']\n",
    "\n",
    "    model_class   = get_model_class(model_name)\n",
    "    params        = model_parameters[model_name]\n",
    "    \n",
    "    print(\"Training %s model\" % model_name)\n",
    "\n",
    "    clf           = model_class(random_state=seed, **params)\n",
    "\n",
    "    trained_model = clf.fit(train_dropped, target)\n",
    "\n",
    "    return trained_model, params\n"
   ]
  },
  {
   "cell_type": "code",
   "execution_count": 10,
   "metadata": {},
   "outputs": [
    {
     "name": "stdout",
     "output_type": "stream",
     "text": [
      "Training decision_tree model\n"
     ]
    }
   ],
   "source": [
    "model, params = train_model(train, model_name, seed)\n"
   ]
  },
  {
   "cell_type": "markdown",
   "metadata": {},
   "source": [
    "---\n",
    "## Validate the trained model"
   ]
  },
  {
   "cell_type": "code",
   "execution_count": 11,
   "metadata": {},
   "outputs": [],
   "source": [
    "def make_predictions(model, validate):\n",
    "    validate_dropped = validate.drop('unit_sales', axis=1).fillna(-1)\n",
    "    validate_preds   = model.predict(validate_dropped)\n",
    "    return validate_preds\n",
    "\n",
    "\n",
    "def write_predictions_and_score(model_name, evaluation_metrics, model):\n",
    "    path     = '{}/models/{}/'.format(local_data_dir, model_name)\n",
    "    filename = 'model.pkl'\n",
    "    if not os.path.exists(path):\n",
    "        os.makedirs(path)\n",
    "    print(\"Writing to {}\".format(path + filename))\n",
    "    joblib.dump(model, path + filename)\n",
    "\n",
    "    path     = '{}/results/{}/'.format(local_data_dir, model_name)\n",
    "    filename = 'metrics.json'\n",
    "    print(\"Writing to {}\".format(path + filename))\n",
    "    if not os.path.exists(path):\n",
    "        os.makedirs(path)\n",
    "    with open(path + filename, 'w+') as score_file:\n",
    "        json.dump(evaluation_metrics, score_file)\n",
    "\n",
    "\n",
    "def eval_nwrmsle(predictions, targets, weights):\n",
    "    if type(predictions) == list:\n",
    "        predictions = np.array([np.nan if x < 0 else x for x in predictions])\n",
    "    elif type(predictions) == pd.Series:\n",
    "        predictions[predictions < 0] = np.nan\n",
    "    targetsf = targets.astype(float)\n",
    "    targetsf[targets < 0] = np.nan\n",
    "    weights = 1 + 0.25 * weights\n",
    "    log_square_errors = (np.log(predictions + 1) - np.log(targetsf + 1)) ** 2\n",
    "    return(np.sqrt(np.sum(weights * log_square_errors) / np.sum(weights)))\n"
   ]
  },
  {
   "cell_type": "code",
   "execution_count": 12,
   "metadata": {},
   "outputs": [
    {
     "name": "stdout",
     "output_type": "stream",
     "text": [
      "Making prediction on validation data\n",
      "Calculating metrics\n",
      "Writing to /home/sagemaker-user/CD4ML-AWS-Serverless/data/models/decision_tree/model.pkl\n",
      "Writing to /home/sagemaker-user/CD4ML-AWS-Serverless/data/results/decision_tree/metrics.json\n",
      "Evaluation done with metrics {\"nwrmsle\": 0.8480084859255792, \"r2_score\": -2.0782116252217895}.\n"
     ]
    }
   ],
   "source": [
    "print(\"Making prediction on validation data\")\n",
    "validation_predictions = make_predictions(model, validate)\n",
    "\n",
    "print(\"Calculating metrics\")\n",
    "evaluation_metrics = {\n",
    "    'nwrmsle' : eval_nwrmsle(validation_predictions, validate['unit_sales'].values, validate['perishable'].values),\n",
    "    'r2_score': metrics.r2_score(y_true=validate['unit_sales'].values, y_pred=validation_predictions)\n",
    "}\n",
    "\n",
    "#        track.log_metrics(evaluation_metrics)\n",
    "\n",
    "write_predictions_and_score(model_name, evaluation_metrics, model)\n",
    "\n",
    "print(\"Evaluation done with metrics {}.\".format(json.dumps(evaluation_metrics)))\n"
   ]
  },
  {
   "cell_type": "markdown",
   "metadata": {},
   "source": [
    "---\n",
    "# Run the Training Model on a different train instance"
   ]
  },
  {
   "cell_type": "code",
   "execution_count": 10,
   "metadata": {},
   "outputs": [],
   "source": [
    "sm_session = sagemaker.Session()\n",
    "\n",
    "# Get a SageMaker-compatible role used by this Notebook Instance.\n",
    "role = get_execution_role()\n"
   ]
  },
  {
   "cell_type": "markdown",
   "metadata": {},
   "source": [
    "### Create Experiment"
   ]
  },
  {
   "cell_type": "code",
   "execution_count": 13,
   "metadata": {},
   "outputs": [
    {
     "name": "stdout",
     "output_type": "stream",
     "text": [
      "Experiment(sagemaker_boto_client=<botocore.client.SageMaker object at 0x7fbae9270e50>,experiment_name='DemandFrcst-2020-06-27-02',description='Predict customer demand',experiment_arn='arn:aws:sagemaker:us-east-1:261586618408:experiment/demandfrcst-2020-06-27-02',response_metadata={'RequestId': 'f987080b-f5e1-48bc-98cd-9b6d0b296726', 'HTTPStatusCode': 200, 'HTTPHeaders': {'x-amzn-requestid': 'f987080b-f5e1-48bc-98cd-9b6d0b296726', 'content-type': 'application/x-amz-json-1.1', 'content-length': '97', 'date': 'Sat, 27 Jun 2020 13:24:10 GMT'}, 'RetryAttempts': 0})\n"
     ]
    }
   ],
   "source": [
    "# create_date = strftime(\"%Y-%m-%d-%H-%M-%S\", gmtime())\n",
    "create_date = strftime(\"%Y-%m-%d\", gmtime())\n",
    "DemForExp = Experiment.create(experiment_name=\"DemandFrcst-{}-02\".format(create_date), \n",
    "                                              description=\"Predict customer demand\", \n",
    "                                              sagemaker_boto_client=boto3.client('sagemaker'))\n",
    "print (DemForExp)\n"
   ]
  },
  {
   "cell_type": "markdown",
   "metadata": {},
   "source": [
    "### Create Trial"
   ]
  },
  {
   "cell_type": "code",
   "execution_count": 14,
   "metadata": {},
   "outputs": [],
   "source": [
    "trial_dt = Trial.create(trial_name=\"decision-tree-{}\".format(strftime(\"%Y-%m-%d-%H-%M-%S\", gmtime())), \n",
    "                     experiment_name=DemForExp.experiment_name,\n",
    "                     sagemaker_boto_client=boto3.client('sagemaker'))\n",
    "\n",
    "trial_rf = Trial.create(trial_name=\"random-forest-{}\".format(strftime(\"%Y-%m-%d-%H-%M-%S\", gmtime())), \n",
    "                     experiment_name=DemForExp.experiment_name,\n",
    "                     sagemaker_boto_client=boto3.client('sagemaker'))\n"
   ]
  },
  {
   "cell_type": "markdown",
   "metadata": {},
   "source": [
    "### Create Hyperparameters"
   ]
  },
  {
   "cell_type": "raw",
   "metadata": {},
   "source": [
    "Different Hyperparameters for the different training models:\n",
    "============================================================\n",
    "model_name:\n",
    "    'random_forest': RandomForestRegressor,\n",
    "    'adaboost': AdaBoostRegressor,\n",
    "    'gradient_boosting': GradientBoostingRegressor,\n",
    "    'decision_tree': DecisionTreeRegressor\n",
    "\n",
    "model_parameters = {\n",
    "    \"random_forest\": {\n",
    "        \"n_estimators\": 10,\n",
    "        \"max_features\": 0.5\n",
    "    },\n",
    "    \"adaboost\": {\n",
    "        \"n_estimators\": 100\n",
    "    },\n",
    "    \"gradient_boosting\": {\n",
    "        \"n_estimators\": 200,\n",
    "        \"max_depth\": 4\n",
    "    },\n",
    "    \"decision_tree\": {\n",
    "        \"criterion\": 'mse'\n",
    "    }\n",
    "}"
   ]
  },
  {
   "cell_type": "code",
   "execution_count": 27,
   "metadata": {},
   "outputs": [],
   "source": [
    "hyperparams = {'model_name'  : 'random_forest',\n",
    "               'n_estimators': 5,\n",
    "               'max_features': 0.5,\n",
    "               'max_depth'   : 4,\n",
    "               'criterion'   : 'mse'}\n"
   ]
  },
  {
   "cell_type": "markdown",
   "metadata": {},
   "source": [
    "### Create S3 bucket for training and validation"
   ]
  },
  {
   "cell_type": "code",
   "execution_count": 28,
   "metadata": {},
   "outputs": [
    {
     "name": "stderr",
     "output_type": "stream",
     "text": [
      "WARNING:sagemaker:'s3_input' class will be renamed to 'TrainingInput' in SageMaker Python SDK v2.\n",
      "WARNING:sagemaker:'s3_input' class will be renamed to 'TrainingInput' in SageMaker Python SDK v2.\n"
     ]
    },
    {
     "name": "stdout",
     "output_type": "stream",
     "text": [
      "s3 data for training:   s3://sagemaker-studio-us-east-1-261586618408/demandforecast/train/final\n",
      "s3 data for validation: s3://sagemaker-studio-us-east-1-261586618408/demandforecast/test/final\n"
     ]
    }
   ],
   "source": [
    "s3_data_train='s3://{}/{}/{}'.format(bucket, s3_prefix, train_dir)\n",
    "s3_input_train = sagemaker.s3_input(s3_data_train, content_type='csv')\n",
    "print (\"s3 data for training:   \" + s3_data_train)\n",
    "\n",
    "s3_data_validate='s3://{}/{}/{}'.format(bucket, s3_prefix, test_dir)\n",
    "s3_input_validate = sagemaker.s3_input(s3_data_validate, content_type='csv')\n",
    "print (\"s3 data for validation: \" + s3_data_validate)\n"
   ]
  },
  {
   "cell_type": "markdown",
   "metadata": {},
   "source": [
    "### Create scikit-learn Estimator"
   ]
  },
  {
   "cell_type": "code",
   "execution_count": 29,
   "metadata": {},
   "outputs": [
    {
     "name": "stderr",
     "output_type": "stream",
     "text": [
      "WARNING:sagemaker:This is not the latest supported version. If you would like to use version 0.23-1, please add framework_version=0.23-1 to your constructor.\n"
     ]
    }
   ],
   "source": [
    "# script_path = './CD4ML-AWS-Serverless/src/scikitmodel.py'\n",
    "script_path = '/root/CD4ML-AWS-Serverless/src/scikitmodel.py'\n",
    "\n",
    "sklearn = SKLearn(\n",
    "    entry_point=script_path,\n",
    "    train_instance_type=\"ml.m5.large\",\n",
    "    role=role,\n",
    "    sagemaker_session=sm_session,\n",
    "    hyperparameters=hyperparams,\n",
    "    metric_definitions=[\n",
    "        {'Name':'test:nwrmsle',  'Regex':'nwrmsle: (.*?);'},\n",
    "        {'Name':'test:r2_score', 'Regex':'r2_score: (.*?);'}\n",
    "    ],\n",
    "    enable_sagemaker_metrics=True\n",
    ")\n"
   ]
  },
  {
   "cell_type": "code",
   "execution_count": 30,
   "metadata": {},
   "outputs": [
    {
     "name": "stderr",
     "output_type": "stream",
     "text": [
      "INFO:sagemaker:Creating training-job with name: sagemaker-scikit-learn-2020-06-27-13-40-55-375\n"
     ]
    },
    {
     "name": "stdout",
     "output_type": "stream",
     "text": [
      "2020-06-27 13:40:55 Starting - Starting the training job...\n",
      "2020-06-27 13:40:58 Starting - Launching requested ML instances.........\n",
      "2020-06-27 13:42:53 Starting - Preparing the instances for training......\n",
      "2020-06-27 13:43:47 Downloading - Downloading input data...\n",
      "2020-06-27 13:44:16 Training - Downloading the training image..\u001b[34m2020-06-27 13:44:30,153 sagemaker-containers INFO     Imported framework sagemaker_sklearn_container.training\u001b[0m\n",
      "\u001b[34m2020-06-27 13:44:30,155 sagemaker-containers INFO     No GPUs detected (normal if no gpus installed)\u001b[0m\n",
      "\u001b[34m2020-06-27 13:44:30,164 sagemaker_sklearn_container.training INFO     Invoking user training script.\u001b[0m\n",
      "\n",
      "2020-06-27 13:44:30 Training - Training image download completed. Training in progress.\u001b[34m2020-06-27 13:44:47,627 sagemaker-containers INFO     Module scikitmodel does not provide a setup.py. \u001b[0m\n",
      "\u001b[34mGenerating setup.py\u001b[0m\n",
      "\u001b[34m2020-06-27 13:44:47,628 sagemaker-containers INFO     Generating setup.cfg\u001b[0m\n",
      "\u001b[34m2020-06-27 13:44:47,628 sagemaker-containers INFO     Generating MANIFEST.in\u001b[0m\n",
      "\u001b[34m2020-06-27 13:44:47,628 sagemaker-containers INFO     Installing module with the following command:\u001b[0m\n",
      "\u001b[34m/miniconda3/bin/python -m pip install . \u001b[0m\n",
      "\u001b[34mProcessing /opt/ml/code\u001b[0m\n",
      "\u001b[34mBuilding wheels for collected packages: scikitmodel\n",
      "  Building wheel for scikitmodel (setup.py): started\n",
      "  Building wheel for scikitmodel (setup.py): finished with status 'done'\n",
      "  Created wheel for scikitmodel: filename=scikitmodel-1.0.0-py2.py3-none-any.whl size=7477 sha256=c039a71aaabb0327a9395580f62ec2f4e60d0c12bea391ef1ec916b6a6baf78f\n",
      "  Stored in directory: /tmp/pip-ephem-wheel-cache-srctp8tm/wheels/35/24/16/37574d11bf9bde50616c67372a334f94fa8356bc7164af8ca3\u001b[0m\n",
      "\u001b[34mSuccessfully built scikitmodel\u001b[0m\n",
      "\u001b[34mInstalling collected packages: scikitmodel\u001b[0m\n",
      "\u001b[34mSuccessfully installed scikitmodel-1.0.0\u001b[0m\n",
      "\u001b[34m2020-06-27 13:44:48,883 sagemaker-containers INFO     No GPUs detected (normal if no gpus installed)\u001b[0m\n",
      "\u001b[34m2020-06-27 13:44:48,893 sagemaker-containers INFO     Invoking user script\n",
      "\u001b[0m\n",
      "\u001b[34mTraining Env:\n",
      "\u001b[0m\n",
      "\u001b[34m{\n",
      "    \"additional_framework_parameters\": {},\n",
      "    \"channel_input_dirs\": {\n",
      "        \"validation\": \"/opt/ml/input/data/validation\",\n",
      "        \"train\": \"/opt/ml/input/data/train\"\n",
      "    },\n",
      "    \"current_host\": \"algo-1\",\n",
      "    \"framework_module\": \"sagemaker_sklearn_container.training:main\",\n",
      "    \"hosts\": [\n",
      "        \"algo-1\"\n",
      "    ],\n",
      "    \"hyperparameters\": {\n",
      "        \"max_features\": 0.5,\n",
      "        \"criterion\": \"mse\",\n",
      "        \"model_name\": \"random_forest\",\n",
      "        \"max_depth\": 4,\n",
      "        \"n_estimators\": 5\n",
      "    },\n",
      "    \"input_config_dir\": \"/opt/ml/input/config\",\n",
      "    \"input_data_config\": {\n",
      "        \"validation\": {\n",
      "            \"ContentType\": \"csv\",\n",
      "            \"TrainingInputMode\": \"File\",\n",
      "            \"S3DistributionType\": \"FullyReplicated\",\n",
      "            \"RecordWrapperType\": \"None\"\n",
      "        },\n",
      "        \"train\": {\n",
      "            \"ContentType\": \"csv\",\n",
      "            \"TrainingInputMode\": \"File\",\n",
      "            \"S3DistributionType\": \"FullyReplicated\",\n",
      "            \"RecordWrapperType\": \"None\"\n",
      "        }\n",
      "    },\n",
      "    \"input_dir\": \"/opt/ml/input\",\n",
      "    \"is_master\": true,\n",
      "    \"job_name\": \"sagemaker-scikit-learn-2020-06-27-13-40-55-375\",\n",
      "    \"log_level\": 20,\n",
      "    \"master_hostname\": \"algo-1\",\n",
      "    \"model_dir\": \"/opt/ml/model\",\n",
      "    \"module_dir\": \"s3://sagemaker-us-east-1-261586618408/sagemaker-scikit-learn-2020-06-27-13-40-55-375/source/sourcedir.tar.gz\",\n",
      "    \"module_name\": \"scikitmodel\",\n",
      "    \"network_interface_name\": \"eth0\",\n",
      "    \"num_cpus\": 2,\n",
      "    \"num_gpus\": 0,\n",
      "    \"output_data_dir\": \"/opt/ml/output/data\",\n",
      "    \"output_dir\": \"/opt/ml/output\",\n",
      "    \"output_intermediate_dir\": \"/opt/ml/output/intermediate\",\n",
      "    \"resource_config\": {\n",
      "        \"current_host\": \"algo-1\",\n",
      "        \"hosts\": [\n",
      "            \"algo-1\"\n",
      "        ],\n",
      "        \"network_interface_name\": \"eth0\"\n",
      "    },\n",
      "    \"user_entry_point\": \"scikitmodel.py\"\u001b[0m\n",
      "\u001b[34m}\n",
      "\u001b[0m\n",
      "\u001b[34mEnvironment variables:\n",
      "\u001b[0m\n",
      "\u001b[34mSM_HOSTS=[\"algo-1\"]\u001b[0m\n",
      "\u001b[34mSM_NETWORK_INTERFACE_NAME=eth0\u001b[0m\n",
      "\u001b[34mSM_HPS={\"criterion\":\"mse\",\"max_depth\":4,\"max_features\":0.5,\"model_name\":\"random_forest\",\"n_estimators\":5}\u001b[0m\n",
      "\u001b[34mSM_USER_ENTRY_POINT=scikitmodel.py\u001b[0m\n",
      "\u001b[34mSM_FRAMEWORK_PARAMS={}\u001b[0m\n",
      "\u001b[34mSM_RESOURCE_CONFIG={\"current_host\":\"algo-1\",\"hosts\":[\"algo-1\"],\"network_interface_name\":\"eth0\"}\u001b[0m\n",
      "\u001b[34mSM_INPUT_DATA_CONFIG={\"train\":{\"ContentType\":\"csv\",\"RecordWrapperType\":\"None\",\"S3DistributionType\":\"FullyReplicated\",\"TrainingInputMode\":\"File\"},\"validation\":{\"ContentType\":\"csv\",\"RecordWrapperType\":\"None\",\"S3DistributionType\":\"FullyReplicated\",\"TrainingInputMode\":\"File\"}}\u001b[0m\n",
      "\u001b[34mSM_OUTPUT_DATA_DIR=/opt/ml/output/data\u001b[0m\n",
      "\u001b[34mSM_CHANNELS=[\"train\",\"validation\"]\u001b[0m\n",
      "\u001b[34mSM_CURRENT_HOST=algo-1\u001b[0m\n",
      "\u001b[34mSM_MODULE_NAME=scikitmodel\u001b[0m\n",
      "\u001b[34mSM_LOG_LEVEL=20\u001b[0m\n",
      "\u001b[34mSM_FRAMEWORK_MODULE=sagemaker_sklearn_container.training:main\u001b[0m\n",
      "\u001b[34mSM_INPUT_DIR=/opt/ml/input\u001b[0m\n",
      "\u001b[34mSM_INPUT_CONFIG_DIR=/opt/ml/input/config\u001b[0m\n",
      "\u001b[34mSM_OUTPUT_DIR=/opt/ml/output\u001b[0m\n",
      "\u001b[34mSM_NUM_CPUS=2\u001b[0m\n",
      "\u001b[34mSM_NUM_GPUS=0\u001b[0m\n",
      "\u001b[34mSM_MODEL_DIR=/opt/ml/model\u001b[0m\n",
      "\u001b[34mSM_MODULE_DIR=s3://sagemaker-us-east-1-261586618408/sagemaker-scikit-learn-2020-06-27-13-40-55-375/source/sourcedir.tar.gz\u001b[0m\n",
      "\u001b[34mSM_TRAINING_ENV={\"additional_framework_parameters\":{},\"channel_input_dirs\":{\"train\":\"/opt/ml/input/data/train\",\"validation\":\"/opt/ml/input/data/validation\"},\"current_host\":\"algo-1\",\"framework_module\":\"sagemaker_sklearn_container.training:main\",\"hosts\":[\"algo-1\"],\"hyperparameters\":{\"criterion\":\"mse\",\"max_depth\":4,\"max_features\":0.5,\"model_name\":\"random_forest\",\"n_estimators\":5},\"input_config_dir\":\"/opt/ml/input/config\",\"input_data_config\":{\"train\":{\"ContentType\":\"csv\",\"RecordWrapperType\":\"None\",\"S3DistributionType\":\"FullyReplicated\",\"TrainingInputMode\":\"File\"},\"validation\":{\"ContentType\":\"csv\",\"RecordWrapperType\":\"None\",\"S3DistributionType\":\"FullyReplicated\",\"TrainingInputMode\":\"File\"}},\"input_dir\":\"/opt/ml/input\",\"is_master\":true,\"job_name\":\"sagemaker-scikit-learn-2020-06-27-13-40-55-375\",\"log_level\":20,\"master_hostname\":\"algo-1\",\"model_dir\":\"/opt/ml/model\",\"module_dir\":\"s3://sagemaker-us-east-1-261586618408/sagemaker-scikit-learn-2020-06-27-13-40-55-375/source/sourcedir.tar.gz\",\"module_name\":\"scikitmodel\",\"network_interface_name\":\"eth0\",\"num_cpus\":2,\"num_gpus\":0,\"output_data_dir\":\"/opt/ml/output/data\",\"output_dir\":\"/opt/ml/output\",\"output_intermediate_dir\":\"/opt/ml/output/intermediate\",\"resource_config\":{\"current_host\":\"algo-1\",\"hosts\":[\"algo-1\"],\"network_interface_name\":\"eth0\"},\"user_entry_point\":\"scikitmodel.py\"}\u001b[0m\n",
      "\u001b[34mSM_USER_ARGS=[\"--criterion\",\"mse\",\"--max_depth\",\"4\",\"--max_features\",\"0.5\",\"--model_name\",\"random_forest\",\"--n_estimators\",\"5\"]\u001b[0m\n",
      "\u001b[34mSM_OUTPUT_INTERMEDIATE_DIR=/opt/ml/output/intermediate\u001b[0m\n",
      "\u001b[34mSM_CHANNEL_VALIDATION=/opt/ml/input/data/validation\u001b[0m\n",
      "\u001b[34mSM_CHANNEL_TRAIN=/opt/ml/input/data/train\u001b[0m\n",
      "\u001b[34mSM_HP_MAX_FEATURES=0.5\u001b[0m\n",
      "\u001b[34mSM_HP_CRITERION=mse\u001b[0m\n",
      "\u001b[34mSM_HP_MODEL_NAME=random_forest\u001b[0m\n",
      "\u001b[34mSM_HP_MAX_DEPTH=4\u001b[0m\n",
      "\u001b[34mSM_HP_N_ESTIMATORS=5\u001b[0m\n",
      "\u001b[34mPYTHONPATH=/miniconda3/bin:/miniconda3/lib/python37.zip:/miniconda3/lib/python3.7:/miniconda3/lib/python3.7/lib-dynload:/miniconda3/lib/python3.7/site-packages\n",
      "\u001b[0m\n",
      "\u001b[34mInvoking script with the following command:\n",
      "\u001b[0m\n",
      "\u001b[34m/miniconda3/bin/python -m scikitmodel --criterion mse --max_depth 4 --max_features 0.5 --model_name random_forest --n_estimators 5\n",
      "\n",
      "\u001b[0m\n",
      "\u001b[34m/miniconda3/lib/python3.7/site-packages/sklearn/externals/joblib/externals/cloudpickle/cloudpickle.py:47: DeprecationWarning: the imp module is deprecated in favour of importlib; see the module's documentation for alternative uses\n",
      "  import imp\u001b[0m\n",
      "\u001b[34mGet train data loader\u001b[0m\n",
      "\u001b[34m--- Logging error ---\u001b[0m\n",
      "\u001b[34mTraceback (most recent call last):\n",
      "  File \"/miniconda3/lib/python3.7/logging/__init__.py\", line 1025, in emit\n",
      "    msg = self.format(record)\n",
      "  File \"/miniconda3/lib/python3.7/logging/__init__.py\", line 869, in format\n",
      "    return fmt.format(record)\u001b[0m\n",
      "\u001b[34mKeyError: \"'time'\"\u001b[0m\n",
      "\u001b[34mCall stack:\n",
      "  File \"/miniconda3/lib/python3.7/runpy.py\", line 193, in _run_module_as_main\n",
      "    \"__main__\", mod_spec)\n",
      "  File \"/miniconda3/lib/python3.7/runpy.py\", line 85, in _run_code\n",
      "    exec(code, run_globals)\n",
      "  File \"/opt/ml/code/scikitmodel.py\", line 67, in <module>\n",
      "    logger.info(\"Get train data loader\")\u001b[0m\n",
      "\u001b[34mMessage: 'Get train data loader'\u001b[0m\n",
      "\u001b[34mArguments: ()\u001b[0m\n",
      "\u001b[34m--- Logging error ---\u001b[0m\n",
      "\u001b[34mGet valdation data loader\u001b[0m\n",
      "\u001b[34mTraceback (most recent call last):\n",
      "  File \"/miniconda3/lib/python3.7/logging/__init__.py\", line 1025, in emit\n",
      "    msg = self.format(record)\n",
      "  File \"/miniconda3/lib/python3.7/logging/__init__.py\", line 869, in format\n",
      "    return fmt.format(record)\u001b[0m\n",
      "\u001b[34mKeyError: \"'time'\"\u001b[0m\n",
      "\u001b[34mCall stack:\n",
      "  File \"/miniconda3/lib/python3.7/runpy.py\", line 193, in _run_module_as_main\n",
      "    \"__main__\", mod_spec)\n",
      "  File \"/miniconda3/lib/python3.7/runpy.py\", line 85, in _run_code\n",
      "    exec(code, run_globals)\n",
      "  File \"/opt/ml/code/scikitmodel.py\", line 71, in <module>\n",
      "    logger.info(\"Get valdation data loader\")\u001b[0m\n",
      "\u001b[34mMessage: 'Get valdation data loader'\u001b[0m\n",
      "\u001b[34mArguments: ()\u001b[0m\n",
      "\u001b[34m--- Logging error ---\u001b[0m\n",
      "\u001b[34mTraining starts\u001b[0m\n",
      "\u001b[34mTraceback (most recent call last):\n",
      "  File \"/miniconda3/lib/python3.7/logging/__init__.py\", line 1025, in emit\n",
      "    msg = self.format(record)\n",
      "  File \"/miniconda3/lib/python3.7/logging/__init__.py\", line 869, in format\n",
      "    return fmt.format(record)\u001b[0m\n",
      "\u001b[34mKeyError: \"'time'\"\u001b[0m\n",
      "\u001b[34mCall stack:\n",
      "  File \"/miniconda3/lib/python3.7/runpy.py\", line 193, in _run_module_as_main\n",
      "    \"__main__\", mod_spec)\n",
      "  File \"/miniconda3/lib/python3.7/runpy.py\", line 85, in _run_code\n",
      "    exec(code, run_globals)\n",
      "  File \"/opt/ml/code/scikitmodel.py\", line 95, in <module>\n",
      "    logger.debug(\"Training starts\")\u001b[0m\n",
      "\u001b[34mMessage: 'Training starts'\u001b[0m\n",
      "\u001b[34mArguments: ()\u001b[0m\n",
      "\n",
      "2020-06-27 13:45:24 Uploading - Uploading generated training model\n",
      "2020-06-27 13:45:24 Completed - Training job completed\n",
      "\u001b[34m--- Logging error ---\u001b[0m\n",
      "\u001b[34mTraining done\u001b[0m\n",
      "\u001b[34mTraceback (most recent call last):\n",
      "  File \"/miniconda3/lib/python3.7/logging/__init__.py\", line 1025, in emit\n",
      "    msg = self.format(record)\n",
      "  File \"/miniconda3/lib/python3.7/logging/__init__.py\", line 869, in format\n",
      "    return fmt.format(record)\u001b[0m\n",
      "\u001b[34mKeyError: \"'time'\"\u001b[0m\n",
      "\u001b[34mCall stack:\n",
      "  File \"/miniconda3/lib/python3.7/runpy.py\", line 193, in _run_module_as_main\n",
      "    \"__main__\", mod_spec)\n",
      "  File \"/miniconda3/lib/python3.7/runpy.py\", line 85, in _run_code\n",
      "    exec(code, run_globals)\n",
      "  File \"/opt/ml/code/scikitmodel.py\", line 99, in <module>\n",
      "    logger.debug(\"Training done\")\u001b[0m\n",
      "\u001b[34mMessage: 'Training done'\u001b[0m\n",
      "\u001b[34mArguments: ()\u001b[0m\n",
      "\u001b[34m--- Logging error ---\u001b[0m\n",
      "\u001b[34mTraceback (most recent call last):\u001b[0m\n",
      "\u001b[34mMaking prediction on validation data\n",
      "  File \"/miniconda3/lib/python3.7/logging/__init__.py\", line 1025, in emit\n",
      "    msg = self.format(record)\n",
      "  File \"/miniconda3/lib/python3.7/logging/__init__.py\", line 869, in format\n",
      "    return fmt.format(record)\u001b[0m\n",
      "\u001b[34mKeyError: \"'time'\"\u001b[0m\n",
      "\u001b[34mCall stack:\n",
      "  File \"/miniconda3/lib/python3.7/runpy.py\", line 193, in _run_module_as_main\n",
      "    \"__main__\", mod_spec)\n",
      "  File \"/miniconda3/lib/python3.7/runpy.py\", line 85, in _run_code\n",
      "    exec(code, run_globals)\n",
      "  File \"/opt/ml/code/scikitmodel.py\", line 101, in <module>\n",
      "    logger.debug(\"Making prediction on validation data\")\u001b[0m\n",
      "\u001b[34mMessage: 'Making prediction on validation data'\u001b[0m\n",
      "\u001b[34mArguments: ()\u001b[0m\n",
      "\u001b[34m--- Logging error ---\u001b[0m\n",
      "\u001b[34mnwrmsle: 0.9238;\n",
      "\u001b[0m\n",
      "\u001b[34mTraceback (most recent call last):\n",
      "  File \"/miniconda3/lib/python3.7/logging/__init__.py\", line 1025, in emit\n",
      "    msg = self.format(record)\n",
      "  File \"/miniconda3/lib/python3.7/logging/__init__.py\", line 869, in format\n",
      "    return fmt.format(record)\u001b[0m\n",
      "\u001b[34mKeyError: \"'time'\"\u001b[0m\n",
      "\u001b[34mCall stack:\n",
      "  File \"/miniconda3/lib/python3.7/runpy.py\", line 193, in _run_module_as_main\n",
      "    \"__main__\", mod_spec)\n",
      "  File \"/miniconda3/lib/python3.7/runpy.py\", line 85, in _run_code\n",
      "    exec(code, run_globals)\n",
      "  File \"/opt/ml/code/scikitmodel.py\", line 107, in <module>\n",
      "    validation_data['perishable'].values)))\u001b[0m\n",
      "\u001b[34mMessage: 'nwrmsle: 0.9238;\\n'\u001b[0m\n",
      "\u001b[34mArguments: ()\u001b[0m\n",
      "\u001b[34m--- Logging error ---\u001b[0m\n",
      "\u001b[34mr2_score: -0.0976;\n",
      "\u001b[0m\n",
      "\u001b[34mTraceback (most recent call last):\n",
      "  File \"/miniconda3/lib/python3.7/logging/__init__.py\", line 1025, in emit\n",
      "    msg = self.format(record)\n",
      "  File \"/miniconda3/lib/python3.7/logging/__init__.py\", line 869, in format\n",
      "    return fmt.format(record)\u001b[0m\n",
      "\u001b[34mKeyError: \"'time'\"\u001b[0m\n",
      "\u001b[34mCall stack:\n",
      "  File \"/miniconda3/lib/python3.7/runpy.py\", line 193, in _run_module_as_main\n",
      "    \"__main__\", mod_spec)\n",
      "  File \"/miniconda3/lib/python3.7/runpy.py\", line 85, in _run_code\n",
      "    exec(code, run_globals)\n",
      "  File \"/opt/ml/code/scikitmodel.py\", line 109, in <module>\n",
      "    y_pred=validation_predictions)))\u001b[0m\n",
      "\u001b[34mMessage: 'r2_score: -0.0976;\\n'\u001b[0m\n",
      "\u001b[34mArguments: ()\u001b[0m\n",
      "\u001b[34m2020-06-27 13:45:14,573 sagemaker-containers INFO     Reporting training SUCCESS\u001b[0m\n",
      "Training seconds: 97\n",
      "Billable seconds: 97\n"
     ]
    }
   ],
   "source": [
    "sklearn.fit({'train': s3_input_train,\n",
    "             'validation': s3_input_validate},\n",
    "           experiment_config={\n",
    "            \"ExperimentName\": DemForExp.experiment_name, \n",
    "            \"TrialName\": trial_rf.trial_name,\n",
    "            \"TrialComponentDisplayName\": \"Training\",               \n",
    "           })\n"
   ]
  },
  {
   "cell_type": "raw",
   "metadata": {},
   "source": [
    "Environment variables:\n",
    "\n",
    "SM_HOSTS=[\"algo-1\"]\n",
    "SM_NETWORK_INTERFACE_NAME=eth0\n",
    "SM_HPS={\"criterion\":\"mse\"}\n",
    "SM_USER_ENTRY_POINT=scikitmodel.py\n",
    "SM_FRAMEWORK_PARAMS={}\n",
    "SM_RESOURCE_CONFIG={\"current_host\":\"algo-1\",\"hosts\":[\"algo-1\"],\"network_interface_name\":\"eth0\"}\n",
    "SM_INPUT_DATA_CONFIG={\"train\":{\"ContentType\":\"csv\",\"RecordWrapperType\":\"None\",\"S3DistributionType\":\"FullyReplicated\",\"TrainingInputMode\":\"File\"},\"validation\":{\"ContentType\":\"csv\",\"RecordWrapperType\":\"None\",\"S3DistributionType\":\"FullyReplicated\",\"TrainingInputMode\":\"File\"}}\n",
    "SM_OUTPUT_DATA_DIR=/opt/ml/output/data\n",
    "SM_CHANNELS=[\"train\",\"validation\"]\n",
    "SM_CURRENT_HOST=algo-1\n",
    "SM_MODULE_NAME=scikitmodel\n",
    "SM_LOG_LEVEL=20\n",
    "SM_FRAMEWORK_MODULE=sagemaker_sklearn_container.training:main\n",
    "SM_INPUT_DIR=/opt/ml/input\n",
    "SM_INPUT_CONFIG_DIR=/opt/ml/input/config\n",
    "SM_OUTPUT_DIR=/opt/ml/output\n",
    "SM_NUM_CPUS=2\n",
    "SM_NUM_GPUS=0\n",
    "SM_MODEL_DIR=/opt/ml/model\n",
    "SM_MODULE_DIR=s3://sagemaker-us-east-1-261586618408/sagemaker-scikit-learn-2020-06-27-11-49-10-067/source/sourcedir.tar.gz\n",
    "SM_TRAINING_ENV={\"additional_framework_parameters\":{},\"channel_input_dirs\":{\"train\":\"/opt/ml/input/data/train\",\"validation\":\"/opt/ml/input/data/validation\"},\"current_host\":\"algo-1\",\"framework_module\":\"sagemaker_sklearn_container.training:main\",\"hosts\":[\"algo-1\"],\"hyperparameters\":{\"criterion\":\"mse\"},\"input_config_dir\":\"/opt/ml/input/config\",\"input_data_config\":{\"train\":{\"ContentType\":\"csv\",\"RecordWrapperType\":\"None\",\"S3DistributionType\":\"FullyReplicated\",\"TrainingInputMode\":\"File\"},\"validation\":{\"ContentType\":\"csv\",\"RecordWrapperType\":\"None\",\"S3DistributionType\":\"FullyReplicated\",\"TrainingInputMode\":\"File\"}},\"input_dir\":\"/opt/ml/input\",\"is_master\":true,\"job_name\":\"sagemaker-scikit-learn-2020-06-27-11-49-10-067\",\"log_level\":20,\"master_hostname\":\"algo-1\",\"model_dir\":\"/opt/ml/model\",\"module_dir\":\"s3://sagemaker-us-east-1-261586618408/sagemaker-scikit-learn-2020-06-27-11-49-10-067/source/sourcedir.tar.gz\",\"module_name\":\"scikitmodel\",\"network_interface_name\":\"eth0\",\"num_cpus\":2,\"num_gpus\":0,\"output_data_dir\":\"/opt/ml/output/data\",\"output_dir\":\"/opt/ml/output\",\"output_intermediate_dir\":\"/opt/ml/output/intermediate\",\"resource_config\":{\"current_host\":\"algo-1\",\"hosts\":[\"algo-1\"],\"network_interface_name\":\"eth0\"},\"user_entry_point\":\"scikitmodel.py\"}\n",
    "SM_USER_ARGS=[\"--criterion\",\"mse\"]\n",
    "SM_OUTPUT_INTERMEDIATE_DIR=/opt/ml/output/intermediate\n",
    "SM_CHANNEL_VALIDATION=/opt/ml/input/data/validation\n",
    "SM_CHANNEL_TRAIN=/opt/ml/input/data/train\n",
    "SM_HP_CRITERION=mse\n",
    "PYTHONPATH=/miniconda3/bin:/miniconda3/lib/python37.zip:/miniconda3/lib/python3.7:/miniconda3/lib/python3.7/lib-dynload:/miniconda3/lib/python3.7/site-packages\n"
   ]
  },
  {
   "cell_type": "code",
   "execution_count": 22,
   "metadata": {},
   "outputs": [
    {
     "name": "stdout",
     "output_type": "stream",
     "text": [
      "/root/CD4ML-AWS-Serverless/notebooks\n"
     ]
    }
   ],
   "source": [
    "!pwd"
   ]
  },
  {
   "cell_type": "code",
   "execution_count": null,
   "metadata": {},
   "outputs": [],
   "source": []
  }
 ],
 "metadata": {
  "instance_type": "ml.t3.medium",
  "kernelspec": {
   "display_name": "Python 3 (Data Science)",
   "language": "python",
   "name": "python3__SAGEMAKER_INTERNAL__arn:aws:sagemaker:us-east-1:081325390199:image/datascience-1.0"
  },
  "language_info": {
   "codemirror_mode": {
    "name": "ipython",
    "version": 3
   },
   "file_extension": ".py",
   "mimetype": "text/x-python",
   "name": "python",
   "nbconvert_exporter": "python",
   "pygments_lexer": "ipython3",
   "version": "3.7.6"
  }
 },
 "nbformat": 4,
 "nbformat_minor": 4
}
