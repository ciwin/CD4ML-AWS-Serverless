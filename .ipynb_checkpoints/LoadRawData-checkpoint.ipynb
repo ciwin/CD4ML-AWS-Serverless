{
 "cells": [
  {
   "cell_type": "markdown",
   "metadata": {},
   "source": [
    "# Download Raw Data from Cloud    \n",
    "Christoph Windheuser, ThoughtWorks, May 27, 2020"
   ]
  },
  {
   "cell_type": "code",
   "execution_count": 3,
   "metadata": {},
   "outputs": [],
   "source": [
    "import os\n",
    "import urllib.request\n",
    "\n",
    "def ensure_dir_exists (directory):\n",
    "    \"\"\"\n",
    "    If a directory doesn't exists, create it\n",
    "    :param directory:\n",
    "    :return:\n",
    "    \"\"\"\n",
    "    if not os.path.exists(directory):\n",
    "        os.makedirs(directory)\n",
    "\n",
    "    '''\n",
    "    To test downloading the data, you can use the very small file store47-2016-head.csv\n",
    "    To download the real file, use filename store47-2016.csv insterad\n",
    "    The file store47-2016.csv has a size of 74 MB\n",
    "    '''\n",
    "\n",
    "def run_download_data ():\n",
    "    path = data_raw\n",
    "    data_info = {\n",
    "        'key': 'store47-2016-head.csv',\n",
    "        'gcs_bucket': 'continuous-intelligence',\n",
    "        'base_url': 'https://storage.googleapis.com'\n",
    "    }\n",
    "    key = data_info['key']\n",
    "    gcs_bucket = data_info['gcs_bucket']\n",
    "    base_url = data_info['base_url']\n",
    "\n",
    "    if not os.path.exists(os.path.join(path, key)):\n",
    "        url = \"%s/%s/%s\" % (base_url, gcs_bucket, key)\n",
    "        filename = os.path.join(path, key)\n",
    "        urllib.request.urlretrieve(url, filename)\n",
    "\n",
    "if __name__ == \"__main__\":\n",
    "    data_dir = 'data'\n",
    "    data_raw = \"%s/raw\" % data_dir\n",
    "    ensure_dir_exists(data_raw)\n",
    "    run_download_data()\n"
   ]
  },
  {
   "cell_type": "code",
   "execution_count": null,
   "metadata": {},
   "outputs": [],
   "source": []
  }
 ],
 "metadata": {
  "kernelspec": {
   "display_name": "Python 3 (Base Python)",
   "language": "python",
   "name": "python3__SAGEMAKER_INTERNAL__arn:aws:sagemaker:us-east-1:081325390199:image/python-3.6"
  },
  "language_info": {
   "codemirror_mode": {
    "name": "ipython",
    "version": 3
   },
   "file_extension": ".py",
   "mimetype": "text/x-python",
   "name": "python",
   "nbconvert_exporter": "python",
   "pygments_lexer": "ipython3",
   "version": "3.6.10"
  }
 },
 "nbformat": 4,
 "nbformat_minor": 4
}
