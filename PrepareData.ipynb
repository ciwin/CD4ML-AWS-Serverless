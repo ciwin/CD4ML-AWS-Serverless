{
 "cells": [
  {
   "cell_type": "markdown",
   "metadata": {},
   "source": [
    "# Download and split raw data into training and test data    \n",
    "Christoph Windheuser, ThoughtWorks, June 19, 2020    \n",
    "     \n",
    "This notebook needs to be run in SageMaker Studio. It reads the data as csv-file from a public S3 bucket. Then it splits the data into a training and a test set and saves all in a personal S3 bucket."
   ]
  },
  {
   "cell_type": "markdown",
   "metadata": {},
   "source": [
    "## Import the necessary libraries    \n",
    "pandas is a python data science library to handle dataframes    \n",
    "boto3 is the Amazon Web Services SDK for Python. It enables Python developers to create, configure, and manage AWS services, such as EC2 and S3.    \n",
    "S3Uploader and S3Downloader are routines to upload or download data into S3."
   ]
  },
  {
   "cell_type": "code",
   "execution_count": 16,
   "metadata": {},
   "outputs": [],
   "source": [
    "import pandas as pd\n",
    "import boto3\n",
    "from sagemaker.s3 import S3Uploader, S3Downloader\n"
   ]
  },
  {
   "cell_type": "markdown",
   "metadata": {},
   "source": [
    "# Do some preparations"
   ]
  },
  {
   "cell_type": "code",
   "execution_count": 20,
   "metadata": {},
   "outputs": [],
   "source": [
    "pd.set_option('display.max_columns', 500)     # Make sure we can see all of the columns\n",
    "pd.set_option('display.max_rows', 10)         # Keep the output on one page\n"
   ]
  },
  {
   "cell_type": "markdown",
   "metadata": {},
   "source": [
    "## Read raw data file"
   ]
  },
  {
   "cell_type": "code",
   "execution_count": 27,
   "metadata": {},
   "outputs": [],
   "source": [
    "filename     = 'store47-2016.csv'\n",
    "s3_data_path = 'https://christoph-windheuser-public.s3.amazonaws.com/'\n",
    "data         = pd.read_csv(s3_data_path + filename)\n"
   ]
  },
  {
   "cell_type": "code",
   "execution_count": 28,
   "metadata": {},
   "outputs": [
    {
     "data": {
      "text/html": [
       "<div>\n",
       "<style scoped>\n",
       "    .dataframe tbody tr th:only-of-type {\n",
       "        vertical-align: middle;\n",
       "    }\n",
       "\n",
       "    .dataframe tbody tr th {\n",
       "        vertical-align: top;\n",
       "    }\n",
       "\n",
       "    .dataframe thead th {\n",
       "        text-align: right;\n",
       "    }\n",
       "</style>\n",
       "<table border=\"1\" class=\"dataframe\">\n",
       "  <thead>\n",
       "    <tr style=\"text-align: right;\">\n",
       "      <th></th>\n",
       "      <th>id</th>\n",
       "      <th>date</th>\n",
       "      <th>item_nbr</th>\n",
       "      <th>unit_sales</th>\n",
       "      <th>family</th>\n",
       "      <th>class</th>\n",
       "      <th>perishable</th>\n",
       "      <th>transactions</th>\n",
       "      <th>year</th>\n",
       "      <th>month</th>\n",
       "      <th>day</th>\n",
       "      <th>dayofweek</th>\n",
       "      <th>days_til_end_of_data</th>\n",
       "      <th>dayoff</th>\n",
       "    </tr>\n",
       "  </thead>\n",
       "  <tbody>\n",
       "    <tr>\n",
       "      <th>0</th>\n",
       "      <td>88219279</td>\n",
       "      <td>2016-08-16</td>\n",
       "      <td>103520</td>\n",
       "      <td>10.0</td>\n",
       "      <td>GROCERY I</td>\n",
       "      <td>1028</td>\n",
       "      <td>0</td>\n",
       "      <td>3570</td>\n",
       "      <td>2016</td>\n",
       "      <td>8</td>\n",
       "      <td>16</td>\n",
       "      <td>1</td>\n",
       "      <td>364</td>\n",
       "      <td>False</td>\n",
       "    </tr>\n",
       "    <tr>\n",
       "      <th>1</th>\n",
       "      <td>88219280</td>\n",
       "      <td>2016-08-16</td>\n",
       "      <td>103665</td>\n",
       "      <td>4.0</td>\n",
       "      <td>BREAD/BAKERY</td>\n",
       "      <td>2712</td>\n",
       "      <td>1</td>\n",
       "      <td>3570</td>\n",
       "      <td>2016</td>\n",
       "      <td>8</td>\n",
       "      <td>16</td>\n",
       "      <td>1</td>\n",
       "      <td>364</td>\n",
       "      <td>False</td>\n",
       "    </tr>\n",
       "    <tr>\n",
       "      <th>2</th>\n",
       "      <td>88219281</td>\n",
       "      <td>2016-08-16</td>\n",
       "      <td>105574</td>\n",
       "      <td>9.0</td>\n",
       "      <td>GROCERY I</td>\n",
       "      <td>1045</td>\n",
       "      <td>0</td>\n",
       "      <td>3570</td>\n",
       "      <td>2016</td>\n",
       "      <td>8</td>\n",
       "      <td>16</td>\n",
       "      <td>1</td>\n",
       "      <td>364</td>\n",
       "      <td>False</td>\n",
       "    </tr>\n",
       "    <tr>\n",
       "      <th>3</th>\n",
       "      <td>88219282</td>\n",
       "      <td>2016-08-16</td>\n",
       "      <td>105575</td>\n",
       "      <td>45.0</td>\n",
       "      <td>GROCERY I</td>\n",
       "      <td>1045</td>\n",
       "      <td>0</td>\n",
       "      <td>3570</td>\n",
       "      <td>2016</td>\n",
       "      <td>8</td>\n",
       "      <td>16</td>\n",
       "      <td>1</td>\n",
       "      <td>364</td>\n",
       "      <td>False</td>\n",
       "    </tr>\n",
       "    <tr>\n",
       "      <th>4</th>\n",
       "      <td>88219283</td>\n",
       "      <td>2016-08-16</td>\n",
       "      <td>105577</td>\n",
       "      <td>8.0</td>\n",
       "      <td>GROCERY I</td>\n",
       "      <td>1045</td>\n",
       "      <td>0</td>\n",
       "      <td>3570</td>\n",
       "      <td>2016</td>\n",
       "      <td>8</td>\n",
       "      <td>16</td>\n",
       "      <td>1</td>\n",
       "      <td>364</td>\n",
       "      <td>False</td>\n",
       "    </tr>\n",
       "    <tr>\n",
       "      <th>5</th>\n",
       "      <td>88219284</td>\n",
       "      <td>2016-08-16</td>\n",
       "      <td>105693</td>\n",
       "      <td>2.0</td>\n",
       "      <td>GROCERY I</td>\n",
       "      <td>1034</td>\n",
       "      <td>0</td>\n",
       "      <td>3570</td>\n",
       "      <td>2016</td>\n",
       "      <td>8</td>\n",
       "      <td>16</td>\n",
       "      <td>1</td>\n",
       "      <td>364</td>\n",
       "      <td>False</td>\n",
       "    </tr>\n",
       "    <tr>\n",
       "      <th>6</th>\n",
       "      <td>88219285</td>\n",
       "      <td>2016-08-16</td>\n",
       "      <td>105737</td>\n",
       "      <td>6.0</td>\n",
       "      <td>GROCERY I</td>\n",
       "      <td>1044</td>\n",
       "      <td>0</td>\n",
       "      <td>3570</td>\n",
       "      <td>2016</td>\n",
       "      <td>8</td>\n",
       "      <td>16</td>\n",
       "      <td>1</td>\n",
       "      <td>364</td>\n",
       "      <td>False</td>\n",
       "    </tr>\n",
       "    <tr>\n",
       "      <th>7</th>\n",
       "      <td>88219286</td>\n",
       "      <td>2016-08-16</td>\n",
       "      <td>105857</td>\n",
       "      <td>14.0</td>\n",
       "      <td>GROCERY I</td>\n",
       "      <td>1092</td>\n",
       "      <td>0</td>\n",
       "      <td>3570</td>\n",
       "      <td>2016</td>\n",
       "      <td>8</td>\n",
       "      <td>16</td>\n",
       "      <td>1</td>\n",
       "      <td>364</td>\n",
       "      <td>False</td>\n",
       "    </tr>\n",
       "    <tr>\n",
       "      <th>8</th>\n",
       "      <td>88219287</td>\n",
       "      <td>2016-08-16</td>\n",
       "      <td>106716</td>\n",
       "      <td>13.0</td>\n",
       "      <td>GROCERY I</td>\n",
       "      <td>1032</td>\n",
       "      <td>0</td>\n",
       "      <td>3570</td>\n",
       "      <td>2016</td>\n",
       "      <td>8</td>\n",
       "      <td>16</td>\n",
       "      <td>1</td>\n",
       "      <td>364</td>\n",
       "      <td>False</td>\n",
       "    </tr>\n",
       "    <tr>\n",
       "      <th>9</th>\n",
       "      <td>88219288</td>\n",
       "      <td>2016-08-16</td>\n",
       "      <td>108079</td>\n",
       "      <td>2.0</td>\n",
       "      <td>GROCERY I</td>\n",
       "      <td>1030</td>\n",
       "      <td>0</td>\n",
       "      <td>3570</td>\n",
       "      <td>2016</td>\n",
       "      <td>8</td>\n",
       "      <td>16</td>\n",
       "      <td>1</td>\n",
       "      <td>364</td>\n",
       "      <td>False</td>\n",
       "    </tr>\n",
       "  </tbody>\n",
       "</table>\n",
       "</div>"
      ],
      "text/plain": [
       "         id        date  item_nbr  unit_sales        family  class  \\\n",
       "0  88219279  2016-08-16    103520        10.0     GROCERY I   1028   \n",
       "1  88219280  2016-08-16    103665         4.0  BREAD/BAKERY   2712   \n",
       "2  88219281  2016-08-16    105574         9.0     GROCERY I   1045   \n",
       "3  88219282  2016-08-16    105575        45.0     GROCERY I   1045   \n",
       "4  88219283  2016-08-16    105577         8.0     GROCERY I   1045   \n",
       "5  88219284  2016-08-16    105693         2.0     GROCERY I   1034   \n",
       "6  88219285  2016-08-16    105737         6.0     GROCERY I   1044   \n",
       "7  88219286  2016-08-16    105857        14.0     GROCERY I   1092   \n",
       "8  88219287  2016-08-16    106716        13.0     GROCERY I   1032   \n",
       "9  88219288  2016-08-16    108079         2.0     GROCERY I   1030   \n",
       "\n",
       "   perishable  transactions  year  month  day  dayofweek  \\\n",
       "0           0          3570  2016      8   16          1   \n",
       "1           1          3570  2016      8   16          1   \n",
       "2           0          3570  2016      8   16          1   \n",
       "3           0          3570  2016      8   16          1   \n",
       "4           0          3570  2016      8   16          1   \n",
       "5           0          3570  2016      8   16          1   \n",
       "6           0          3570  2016      8   16          1   \n",
       "7           0          3570  2016      8   16          1   \n",
       "8           0          3570  2016      8   16          1   \n",
       "9           0          3570  2016      8   16          1   \n",
       "\n",
       "   days_til_end_of_data  dayoff  \n",
       "0                   364   False  \n",
       "1                   364   False  \n",
       "2                   364   False  \n",
       "3                   364   False  \n",
       "4                   364   False  \n",
       "5                   364   False  \n",
       "6                   364   False  \n",
       "7                   364   False  \n",
       "8                   364   False  \n",
       "9                   364   False  "
      ]
     },
     "execution_count": 28,
     "metadata": {},
     "output_type": "execute_result"
    }
   ],
   "source": [
    "data.head(10)"
   ]
  },
  {
   "cell_type": "markdown",
   "metadata": {},
   "source": [
    "## Split into train and test data set"
   ]
  },
  {
   "cell_type": "code",
   "execution_count": 29,
   "metadata": {},
   "outputs": [],
   "source": [
    "# Split the data at the date 2017-08-02 (last 14 days of data set)\n",
    "data_train = data[data['date'] < '2017-08-02']\n",
    "data_test  = data[data['date'] >= '2017-08-02']\n"
   ]
  },
  {
   "cell_type": "markdown",
   "metadata": {},
   "source": [
    "## Save train and test data as csv-file"
   ]
  },
  {
   "cell_type": "markdown",
   "metadata": {},
   "source": [
    "First, save files locally on the SageMaker instance:"
   ]
  },
  {
   "cell_type": "code",
   "execution_count": 30,
   "metadata": {},
   "outputs": [],
   "source": [
    "train_filename = 'store47-2016-train.csv'\n",
    "test_filename  = 'store47-2016-test.csv'\n",
    "data_path      = 'data/'\n",
    "\n",
    "data_train.to_csv(data_path + train_filename, index=False)\n",
    "data_test.to_csv(data_path + test_filename, index=False)\n"
   ]
  },
  {
   "cell_type": "markdown",
   "metadata": {},
   "source": [
    "Then, save to your S3 bucket:"
   ]
  },
  {
   "cell_type": "code",
   "execution_count": 31,
   "metadata": {},
   "outputs": [],
   "source": [
    "sess = boto3.Session()\n"
   ]
  },
  {
   "cell_type": "code",
   "execution_count": 32,
   "metadata": {},
   "outputs": [
    {
     "name": "stderr",
     "output_type": "stream",
     "text": [
      "'upload_data' method will be deprecated in favor of 'S3Uploader' class (https://sagemaker.readthedocs.io/en/stable/s3.html#sagemaker.s3.S3Uploader) in SageMaker Python SDK v2.\n",
      "'upload_data' method will be deprecated in favor of 'S3Uploader' class (https://sagemaker.readthedocs.io/en/stable/s3.html#sagemaker.s3.S3Uploader) in SageMaker Python SDK v2.\n"
     ]
    },
    {
     "name": "stdout",
     "output_type": "stream",
     "text": [
      "s3://sagemaker-studio-us-east-1-261586618408/demandforecast-rf/train/store47-2016-train.csv\n",
      "s3://sagemaker-studio-us-east-1-261586618408/demandforecast-rf/test/store47-2016-test.csv\n"
     ]
    }
   ],
   "source": [
    "account_id = sess.client('sts', region_name=sess.region_name).get_caller_identity()[\"Account\"]\n",
    "bucket = 'sagemaker-studio-{}-{}'.format(sess.region_name, account_id)\n",
    "prefix = 'demandforecast-rf'\n",
    "\n",
    "try:\n",
    "    if sess.region_name == \"us-east-1\":\n",
    "        sess.client('s3').create_bucket(Bucket=bucket)\n",
    "    else:\n",
    "        sess.client('s3').create_bucket(Bucket=bucket, \n",
    "                                        CreateBucketConfiguration={'LocationConstraint': sess.region_name})\n",
    "except Exception as e:\n",
    "    print(\"Looks like you already have a bucket of this name. That's good. Uploading the data files...\")\n",
    "\n",
    "# Return the URLs of the uploaded file, so they can be reviewed or used elsewhere\n",
    "s3url = S3Uploader.upload('{}/{}'.format(data_path, train_filename), 's3://{}/{}/{}'.format(bucket, prefix,'train'))\n",
    "print(s3url)\n",
    "s3url = S3Uploader.upload('{}/{}'.format(data_path, test_filename), 's3://{}/{}/{}'.format(bucket, prefix,'test'))\n",
    "print(s3url)\n"
   ]
  },
  {
   "cell_type": "code",
   "execution_count": null,
   "metadata": {},
   "outputs": [],
   "source": []
  }
 ],
 "metadata": {
  "instance_type": "ml.t3.medium",
  "kernelspec": {
   "display_name": "Python 3 (Data Science)",
   "language": "python",
   "name": "python3__SAGEMAKER_INTERNAL__arn:aws:sagemaker:us-east-1:081325390199:image/datascience-1.0"
  },
  "language_info": {
   "codemirror_mode": {
    "name": "ipython",
    "version": 3
   },
   "file_extension": ".py",
   "mimetype": "text/x-python",
   "name": "python",
   "nbconvert_exporter": "python",
   "pygments_lexer": "ipython3",
   "version": "3.7.6"
  }
 },
 "nbformat": 4,
 "nbformat_minor": 4
}
